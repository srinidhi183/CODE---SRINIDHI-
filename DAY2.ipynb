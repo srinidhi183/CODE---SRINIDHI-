{
  "cells": [
    {
      "cell_type": "markdown",
      "metadata": {
        "id": "view-in-github",
        "colab_type": "text"
      },
      "source": [
        "<a href=\"https://colab.research.google.com/github/MehrdadJalali-AI/Statistics-and-Machine-Learning/blob/main/DAY2.ipynb\" target=\"_parent\"><img src=\"https://colab.research.google.com/assets/colab-badge.svg\" alt=\"Open In Colab\"/></a>"
      ]
    },
    {
      "cell_type": "markdown",
      "id": "0ded626c",
      "metadata": {
        "id": "0ded626c"
      },
      "source": [
        "# DAS1: Statistics and Machine Learning - Day 2"
      ]
    },
    {
      "cell_type": "markdown",
      "id": "8c51beaa",
      "metadata": {
        "id": "8c51beaa"
      },
      "source": [
        "## Chapter 1: Introduction to Statistics"
      ]
    },
    {
      "cell_type": "markdown",
      "id": "de48db5a",
      "metadata": {
        "id": "de48db5a"
      },
      "source": [
        "### Descriptive Statistics"
      ]
    },
    {
      "cell_type": "code",
      "execution_count": 4,
      "id": "89a711d0",
      "metadata": {
        "colab": {
          "base_uri": "https://localhost:8080/"
        },
        "id": "89a711d0",
        "outputId": "0e69516a-d73b-4366-f2b3-7f841d23efea"
      },
      "outputs": [
        {
          "output_type": "stream",
          "name": "stdout",
          "text": [
            "Mean: 125.0\n",
            "Median: 125.0\n"
          ]
        }
      ],
      "source": [
        "import numpy as np\n",
        "\n",
        "# Data\n",
        "data = [120, 130, 110, 140, 125]\n",
        "\n",
        "# Calculate mean\n",
        "mean = np.mean(data)\n",
        "\n",
        "# Calculate median\n",
        "median = np.median(data)\n",
        "\n",
        "# Print results\n",
        "print(f\"Mean: {mean}\")\n",
        "print(f\"Median: {median}\")\n",
        "\n"
      ]
    },
    {
      "cell_type": "markdown",
      "id": "a4fe347a",
      "metadata": {
        "id": "a4fe347a"
      },
      "source": [
        "### Measures of Dispersion"
      ]
    },
    {
      "cell_type": "code",
      "execution_count": 5,
      "id": "0f027e86",
      "metadata": {
        "colab": {
          "base_uri": "https://localhost:8080/"
        },
        "id": "0f027e86",
        "outputId": "d767f48d-d2b7-4e07-8807-f88d70800085"
      },
      "outputs": [
        {
          "output_type": "stream",
          "name": "stdout",
          "text": [
            "Variance: 125.0\n",
            "Standard Deviation: 11.180339887498949\n",
            "Range: 30\n"
          ]
        }
      ],
      "source": [
        "\n",
        "# Variance and Standard Deviation\n",
        "variance = np.var(data, ddof=1)  # Sample variance\n",
        "std_dev = np.std(data, ddof=1)  # Sample standard deviation\n",
        "\n",
        "# Range\n",
        "data_range = max(data) - min(data)\n",
        "\n",
        "print(f\"Variance: {variance}\")\n",
        "print(f\"Standard Deviation: {std_dev}\")\n",
        "print(f\"Range: {data_range}\")\n"
      ]
    },
    {
      "cell_type": "markdown",
      "id": "e5850cba",
      "metadata": {
        "id": "e5850cba"
      },
      "source": [
        "### Data Visualization"
      ]
    },
    {
      "cell_type": "code",
      "execution_count": 6,
      "id": "e0a1d852",
      "metadata": {
        "colab": {
          "base_uri": "https://localhost:8080/",
          "height": 927
        },
        "id": "e0a1d852",
        "outputId": "4dfdf4a4-400b-4bf2-a037-cc68d8fcda4e"
      },
      "outputs": [
        {
          "output_type": "display_data",
          "data": {
            "text/plain": [
              "<Figure size 640x480 with 1 Axes>"
            ],
            "image/png": "[encoded data removed]"
          },
          "metadata": {}
        },
        {
          "output_type": "display_data",
          "data": {
            "text/plain": [
              "<Figure size 640x480 with 1 Axes>"
            ],
            "image/png": "[encoded data removed]"
          },
          "metadata": {}
        }
      ],
      "source": [
        "\n",
        "import matplotlib.pyplot as plt\n",
        "\n",
        "# Histogram\n",
        "plt.hist(data, bins=5, color='blue', alpha=0.7, edgecolor='black')\n",
        "plt.title(\"Histogram of Data\")\n",
        "plt.xlabel(\"Value\")\n",
        "plt.ylabel(\"Frequency\")\n",
        "plt.show()\n",
        "\n",
        "# Box Plot\n",
        "plt.boxplot(data, vert=False)\n",
        "plt.title(\"Box Plot of Data\")\n",
        "plt.xlabel(\"Value\")\n",
        "plt.show()\n"
      ]
    },
    {
      "cell_type": "markdown",
      "id": "d622fac9",
      "metadata": {
        "id": "d622fac9"
      },
      "source": [
        "### Fundamentals of Probability"
      ]
    },
    {
      "cell_type": "code",
      "execution_count": 7,
      "id": "4026e583",
      "metadata": {
        "colab": {
          "base_uri": "https://localhost:8080/"
        },
        "id": "4026e583",
        "outputId": "ad6007d0-4a7b-467f-b67f-cb40fd42c63f"
      },
      "outputs": [
        {
          "output_type": "stream",
          "name": "stdout",
          "text": [
            "Probability of picking a red ball: 0.625\n"
          ]
        }
      ],
      "source": [
        "\n",
        "# Probability Example: Bag of balls\n",
        "red_balls = 5\n",
        "blue_balls = 3\n",
        "total_balls = red_balls + blue_balls\n",
        "\n",
        "# Probability of picking a red ball\n",
        "p_red = red_balls / total_balls\n",
        "print(f\"Probability of picking a red ball: {p_red}\")\n"
      ]
    },
    {
      "cell_type": "markdown",
      "id": "0cf9999d",
      "metadata": {
        "id": "0cf9999d"
      },
      "source": [
        "### Probability Rules"
      ]
    },
    {
      "cell_type": "code",
      "execution_count": 8,
      "id": "1d78a73e",
      "metadata": {
        "colab": {
          "base_uri": "https://localhost:8080/"
        },
        "id": "1d78a73e",
        "outputId": "a682b128-92ed-43c6-f451-f04e6a3a3d7e"
      },
      "outputs": [
        {
          "output_type": "stream",
          "name": "stdout",
          "text": [
            "P(A or B): 0.7\n",
            "P(A and B) (Independent): 0.2\n"
          ]
        }
      ],
      "source": [
        "\n",
        "# Probability Rules: Addition and Multiplication\n",
        "p_a = 0.5  # Probability of Event A\n",
        "p_b = 0.4  # Probability of Event B\n",
        "p_a_and_b = 0.2  # Probability of A and B occurring together\n",
        "\n",
        "# Addition Rule\n",
        "p_a_or_b = p_a + p_b - p_a_and_b\n",
        "\n",
        "print(f\"P(A or B): {p_a_or_b}\")\n",
        "\n",
        "# Multiplication Rule for Independent Events\n",
        "p_a_and_b_ind = p_a * p_b\n",
        "print(f\"P(A and B) (Independent): {p_a_and_b_ind}\")\n"
      ]
    },
    {
      "cell_type": "markdown",
      "id": "1d1d0b88",
      "metadata": {
        "id": "1d1d0b88"
      },
      "source": [
        "### Hands-on Lab Exercise"
      ]
    },
    {
      "cell_type": "code",
      "execution_count": null,
      "id": "49509170",
      "metadata": {
        "id": "49509170"
      },
      "outputs": [],
      "source": [
        "\n",
        "# Hands-on Lab Exercise: Descriptive Statistics\n",
        "lab_data = [12, 15, 14, 10, 18, 20, 22, 17, 19, 13, 16, 15, 14, 21, 23]\n",
        "\n",
        "# Mean, Median, Mode\n",
        "lab_mean = np.mean(lab_data)\n",
        "lab_median = np.median(lab_data)\n",
        "lab_mode = stats.mode(lab_data)\n",
        "\n",
        "print(f\"Lab Mean: {lab_mean}\")\n",
        "print(f\"Lab Median: {lab_median}\")\n",
        "print(f\"Lab Mode: {lab_mode.mode[0]}, Frequency: {lab_mode.count[0]}\")\n",
        "\n",
        "# Variance, Standard Deviation, Range\n",
        "lab_variance = np.var(lab_data, ddof=1)\n",
        "lab_std_dev = np.std(lab_data, ddof=1)\n",
        "lab_range = max(lab_data) - min(lab_data)\n",
        "\n",
        "print(f\"Lab Variance: {lab_variance}\")\n",
        "print(f\"Lab Standard Deviation: {lab_std_dev}\")\n",
        "print(f\"Lab Range: {lab_range}\")\n"
      ]
    },
    {
      "cell_type": "code",
      "execution_count": null,
      "id": "d03c5e41",
      "metadata": {
        "id": "d03c5e41"
      },
      "outputs": [],
      "source": [
        "\n",
        "# Data Visualization for Lab Exercise\n",
        "plt.hist(lab_data, bins=7, color='green', alpha=0.7, edgecolor='black')\n",
        "plt.title(\"Histogram of Lab Data\")\n",
        "plt.xlabel(\"Value\")\n",
        "plt.ylabel(\"Frequency\")\n",
        "plt.show()\n",
        "\n",
        "plt.boxplot(lab_data, vert=False)\n",
        "plt.title(\"Box Plot of Lab Data\")\n",
        "plt.xlabel(\"Value\")\n",
        "plt.show()\n"
      ]
    }
  ],
  "metadata": {
    "colab": {
      "provenance": [],
      "include_colab_link": true
    },
    "language_info": {
      "name": "python"
    },
    "kernelspec": {
      "name": "python3",
      "display_name": "Python 3"
    }
  },
  "nbformat": 4,
  "nbformat_minor": 5
}