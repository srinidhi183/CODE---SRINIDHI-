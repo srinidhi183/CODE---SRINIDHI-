{
  "nbformat": 4,
  "nbformat_minor": 0,
  "metadata": {
    "colab": {
      "provenance": [],
      "authorship_tag": "ABX9TyMkinej+sJbh21zUiK58MqS",
      "include_colab_link": true
    },
    "kernelspec": {
      "name": "python3",
      "display_name": "Python 3"
    },
    "language_info": {
      "name": "python"
    }
  },
  "cells": [
    {
      "cell_type": "markdown",
      "metadata": {
        "id": "view-in-github",
        "colab_type": "text"
      },
      "source": [
        "<a href=\"https://colab.research.google.com/github/srinidhi183/CODE---SRINIDHI-/blob/StatsandML/100001318__Exercise__4_Srinidhi.ipynb\" target=\"_parent\"><img src=\"https://colab.research.google.com/assets/colab-badge.svg\" alt=\"Open In Colab\"/></a>"
      ]
    },
    {
      "cell_type": "code",
      "source": [
        "import pandas as pd\n",
        "import seaborn as sns\n",
        "import matplotlib.pyplot as plt\n",
        "\n",
        "url = \"https://raw.githubusercontent.com/datasciencedojo/datasets/master/titanic.csv\"\n",
        "df = pd.read_csv(url)\n",
        "\n",
        "# Display the first few rows\n",
        "print(df.head())\n"
      ],
      "metadata": {
        "colab": {
          "base_uri": "https://localhost:8080/"
        },
        "id": "bkzoShUxN0mc",
        "outputId": "ee62174e-f417-49d7-82a1-f42d85f46098"
      },
      "execution_count": 2,
      "outputs": [
        {
          "output_type": "stream",
          "name": "stdout",
          "text": [
            "   PassengerId  Survived  Pclass  \\\n",
            "0            1         0       3   \n",
            "1            2         1       1   \n",
            "2            3         1       3   \n",
            "3            4         1       1   \n",
            "4            5         0       3   \n",
            "\n",
            "                                                Name     Sex   Age  SibSp  \\\n",
            "0                            Braund, Mr. Owen Harris    male  22.0      1   \n",
            "1  Cumings, Mrs. John Bradley (Florence Briggs Th...  female  38.0      1   \n",
            "2                             Heikkinen, Miss. Laina  female  26.0      0   \n",
            "3       Futrelle, Mrs. Jacques Heath (Lily May Peel)  female  35.0      1   \n",
            "4                           Allen, Mr. William Henry    male  35.0      0   \n",
            "\n",
            "   Parch            Ticket     Fare Cabin Embarked  \n",
            "0      0         A/5 21171   7.2500   NaN        S  \n",
            "1      0          PC 17599  71.2833   C85        C  \n",
            "2      0  STON/O2. 3101282   7.9250   NaN        S  \n",
            "3      0            113803  53.1000  C123        S  \n",
            "4      0            373450   8.0500   NaN        S  \n"
          ]
        }
      ]
    },
    {
      "cell_type": "markdown",
      "source": [
        "\n",
        "\n",
        "Handling missing values\n",
        "\n",
        "\n",
        "Standardization (Z-score) and Normalization (Min-Max Scaling)\n"
      ],
      "metadata": {
        "id": "WBaq8zGmOAQt"
      }
    },
    {
      "cell_type": "code",
      "source": [
        "missing_values = df.isnull().sum() # Change 'df' to 'data'\n",
        "print(missing_values)\n",
        "\n",
        "# Impute Age with the median\n",
        "df['Age'].fillna(df['Age'].median(), inplace=True)\n",
        "\n",
        "# Impute Embarked with the mode\n",
        "df['Embarked'].fillna(df['Embarked'].mode()[0], inplace=True)\n",
        "\n",
        "\n",
        "from sklearn.preprocessing import StandardScaler\n",
        "scaler = StandardScaler()\n",
        "df[['Age', 'Fare']] = scaler.fit_transform(df[['Age', 'Fare']])\n",
        "\n",
        "\n",
        "from sklearn.preprocessing import MinMaxScaler\n",
        "min_max_scaler = MinMaxScaler()\n",
        "df[['Age', 'Fare']] = min_max_scaler.fit_transform(df[['Age', 'Fare']])"
      ],
      "metadata": {
        "colab": {
          "base_uri": "https://localhost:8080/"
        },
        "id": "Te_wFSdmN6Zq",
        "outputId": "6c9c2cc2-2156-4b06-82a9-7873b21f2f98"
      },
      "execution_count": 6,
      "outputs": [
        {
          "output_type": "stream",
          "name": "stdout",
          "text": [
            "PassengerId      0\n",
            "Survived         0\n",
            "Pclass           0\n",
            "Name             0\n",
            "Sex              0\n",
            "Age            177\n",
            "SibSp            0\n",
            "Parch            0\n",
            "Ticket           0\n",
            "Fare             0\n",
            "Cabin          687\n",
            "Embarked         2\n",
            "dtype: int64\n"
          ]
        },
        {
          "output_type": "stream",
          "name": "stderr",
          "text": [
            "<ipython-input-6-c85399d84bdc>:5: FutureWarning: A value is trying to be set on a copy of a DataFrame or Series through chained assignment using an inplace method.\n",
            "The behavior will change in pandas 3.0. This inplace method will never work because the intermediate object on which we are setting values always behaves as a copy.\n",
            "\n",
            "For example, when doing 'df[col].method(value, inplace=True)', try using 'df.method({col: value}, inplace=True)' or df[col] = df[col].method(value) instead, to perform the operation inplace on the original object.\n",
            "\n",
            "\n",
            "  df['Age'].fillna(df['Age'].median(), inplace=True)\n",
            "<ipython-input-6-c85399d84bdc>:8: FutureWarning: A value is trying to be set on a copy of a DataFrame or Series through chained assignment using an inplace method.\n",
            "The behavior will change in pandas 3.0. This inplace method will never work because the intermediate object on which we are setting values always behaves as a copy.\n",
            "\n",
            "For example, when doing 'df[col].method(value, inplace=True)', try using 'df.method({col: value}, inplace=True)' or df[col] = df[col].method(value) instead, to perform the operation inplace on the original object.\n",
            "\n",
            "\n",
            "  df['Embarked'].fillna(df['Embarked'].mode()[0], inplace=True)\n"
          ]
        }
      ]
    },
    {
      "cell_type": "markdown",
      "source": [
        "\n",
        "Handling Noise\n",
        "Injecting Random Noise and Removing It"
      ],
      "metadata": {
        "id": "mNV8i77WOC1E"
      }
    },
    {
      "cell_type": "code",
      "source": [
        "import numpy as np\n",
        "noise = np.random.normal(0, 1, size=df['Age'].shape)\n",
        "df['Age'] += noise\n",
        "\n",
        "df['Age'] = df['Age'].rolling(window=3, min_periods=1).mean()\n",
        "\n",
        "\n",
        "df['Age'] = df['Age'].rolling(window=3, min_periods=1).mean()"
      ],
      "metadata": {
        "id": "HY4UqwmqOIGl"
      },
      "execution_count": 7,
      "outputs": []
    },
    {
      "cell_type": "markdown",
      "source": [
        "\n",
        "Handling Outliers\n",
        "Detecting Outliers Using Z-score"
      ],
      "metadata": {
        "id": "sKu-6xxqOI0a"
      }
    },
    {
      "cell_type": "code",
      "source": [
        "from scipy.stats import zscore\n",
        "df['Age_zscore'] = zscore(df['Age'])\n",
        "outliers = df[df['Age_zscore'].abs() > 3]\n",
        "print(outliers)\n",
        "\n",
        "\n",
        "df = df[df['Age_zscore'].abs() <= 3]\n",
        "\n",
        "\n",
        "df['Age'] = np.log1p(df['Age'])"
      ],
      "metadata": {
        "colab": {
          "base_uri": "https://localhost:8080/"
        },
        "id": "zIr38mxDOMK-",
        "outputId": "55937c83-3b63-4be4-b5e1-deb601c9d5aa"
      },
      "execution_count": 8,
      "outputs": [
        {
          "output_type": "stream",
          "name": "stdout",
          "text": [
            "     PassengerId  Survived  Pclass                             Name     Sex  \\\n",
            "238          239         0       2  Pengelly, Mr. Frederick William    male   \n",
            "409          410         0       3               Lefebre, Miss. Ida  female   \n",
            "\n",
            "          Age  SibSp  Parch Ticket      Fare Cabin Embarked  Age_zscore  \n",
            "238  1.799734      0      0  28665  0.020495   NaN        S    3.049242  \n",
            "409  1.788852      3      1   4133  0.049708   NaN        S    3.026842  \n"
          ]
        },
        {
          "output_type": "stream",
          "name": "stderr",
          "text": [
            "<ipython-input-8-1c9935857310>:10: SettingWithCopyWarning: \n",
            "A value is trying to be set on a copy of a slice from a DataFrame.\n",
            "Try using .loc[row_indexer,col_indexer] = value instead\n",
            "\n",
            "See the caveats in the documentation: https://pandas.pydata.org/pandas-docs/stable/user_guide/indexing.html#returning-a-view-versus-a-copy\n",
            "  df['Age'] = np.log1p(df['Age'])\n"
          ]
        }
      ]
    },
    {
      "cell_type": "markdown",
      "source": [
        "\n",
        "Feature Selection\n",
        "\n",
        "Correlation Matrix"
      ],
      "metadata": {
        "id": "pZtJQtmXONCS"
      }
    },
    {
      "cell_type": "code",
      "source": [
        "\n",
        "\n",
        "# Select only numeric columns before calculating correlation\n",
        "numeric_df = df.select_dtypes(include=['number'])\n",
        "\n",
        "# Calculate the correlation matrix\n",
        "correlation_matrix = numeric_df.corr()\n",
        "\n",
        "# Print the correlation with 'Survived'\n",
        "print(correlation_matrix['Survived'].sort_values(ascending=False))"
      ],
      "metadata": {
        "colab": {
          "base_uri": "https://localhost:8080/"
        },
        "id": "bg4lqj2ZOPqR",
        "outputId": "658d5f1c-5dfa-4ad2-a9ea-00bfa6ae39ab"
      },
      "execution_count": 9,
      "outputs": [
        {
          "output_type": "stream",
          "name": "stdout",
          "text": [
            "Survived       1.000000\n",
            "Fare           0.257008\n",
            "Parch          0.081985\n",
            "Age           -0.003267\n",
            "PassengerId   -0.005852\n",
            "SibSp         -0.033873\n",
            "Age_zscore    -0.035298\n",
            "Pclass        -0.338468\n",
            "Name: Survived, dtype: float64\n"
          ]
        }
      ]
    },
    {
      "cell_type": "markdown",
      "source": [
        "\n",
        "\n",
        "Mutual Information\n"
      ],
      "metadata": {
        "id": "5QUgcGodOR-K"
      }
    },
    {
      "cell_type": "code",
      "source": [
        "from sklearn.feature_selection import mutual_info_classif\n",
        "from sklearn.preprocessing import LabelEncoder\n",
        "\n",
        "# Create a LabelEncoder object\n",
        "le = LabelEncoder()\n",
        "\n",
        "# Select object (string) columns for encoding, EXCLUDING 'Name'\n",
        "object_cols = df.select_dtypes(include=['object']).columns\n",
        "object_cols = object_cols[object_cols != 'Name']  # Exclude 'Name' column\n",
        "\n",
        "# Apply Label Encoding to each object column\n",
        "for col in object_cols:\n",
        "    df[col] = le.fit_transform(df[col])\n",
        "\n",
        "# Calculate mutual information\n",
        "mi = mutual_info_classif(df.drop('Survived', axis=1), df['Survived'])\n",
        "print(mi)"
      ],
      "metadata": {
        "colab": {
          "base_uri": "https://localhost:8080/"
        },
        "id": "C3xVFE5xOURB",
        "outputId": "b9255a63-c60c-4d1b-b53d-8f51704c04d3"
      },
      "execution_count": 12,
      "outputs": [
        {
          "output_type": "stream",
          "name": "stdout",
          "text": [
            "[0.01367488 0.07434569 0.00143307 0.15018552 0.03403334 0.04928009\n",
            " 0.0103305  0.11604709 0.13344917 0.03844652 0.05210608 0.03498229]\n"
          ]
        }
      ]
    },
    {
      "cell_type": "markdown",
      "source": [
        "\n",
        "\n",
        "Wrapper Methods\n",
        "Recursive Feature Elimination\n",
        "Backward Elimination"
      ],
      "metadata": {
        "id": "p7Vv_khdOVnr"
      }
    },
    {
      "cell_type": "code",
      "source": [
        "from sklearn.feature_selection import RFE\n",
        "from sklearn.linear_model import LogisticRegression\n",
        "from sklearn.preprocessing import LabelEncoder\n",
        "\n",
        "# Create a LabelEncoder object\n",
        "le = LabelEncoder()\n",
        "\n",
        "# Select only object (string) columns for encoding\n",
        "object_cols = df.select_dtypes(include=['object']).columns\n",
        "\n",
        "# Apply Label Encoding to each object column\n",
        "for col in object_cols:\n",
        "    df[col] = le.fit_transform(df[col])\n",
        "\n",
        "# Create the model and RFE object\n",
        "model = LogisticRegression()\n",
        "rfe = RFE(estimator=model, n_features_to_select=5)\n",
        "\n",
        "# Fit the RFE object to the transformed data\n",
        "fit = rfe.fit(df.drop('Survived', axis=1), df['Survived'])\n",
        "\n",
        "# Print the results\n",
        "print(fit.support_)\n",
        "print(fit.ranking_)"
      ],
      "metadata": {
        "colab": {
          "base_uri": "https://localhost:8080/"
        },
        "id": "uGZGYaAHOXv0",
        "outputId": "4d7f147d-6528-42a4-e62f-0a819b8cc513"
      },
      "execution_count": 11,
      "outputs": [
        {
          "output_type": "stream",
          "name": "stderr",
          "text": [
            "/usr/local/lib/python3.10/dist-packages/sklearn/linear_model/_logistic.py:469: ConvergenceWarning: lbfgs failed to converge (status=1):\n",
            "STOP: TOTAL NO. of ITERATIONS REACHED LIMIT.\n",
            "\n",
            "Increase the number of iterations (max_iter) or scale the data as shown in:\n",
            "    https://scikit-learn.org/stable/modules/preprocessing.html\n",
            "Please also refer to the documentation for alternative solver options:\n",
            "    https://scikit-learn.org/stable/modules/linear_model.html#logistic-regression\n",
            "  n_iter_i = _check_optimize_result(\n",
            "/usr/local/lib/python3.10/dist-packages/sklearn/linear_model/_logistic.py:469: ConvergenceWarning: lbfgs failed to converge (status=1):\n",
            "STOP: TOTAL NO. of ITERATIONS REACHED LIMIT.\n",
            "\n",
            "Increase the number of iterations (max_iter) or scale the data as shown in:\n",
            "    https://scikit-learn.org/stable/modules/preprocessing.html\n",
            "Please also refer to the documentation for alternative solver options:\n",
            "    https://scikit-learn.org/stable/modules/linear_model.html#logistic-regression\n",
            "  n_iter_i = _check_optimize_result(\n",
            "/usr/local/lib/python3.10/dist-packages/sklearn/linear_model/_logistic.py:469: ConvergenceWarning: lbfgs failed to converge (status=1):\n",
            "STOP: TOTAL NO. of ITERATIONS REACHED LIMIT.\n",
            "\n",
            "Increase the number of iterations (max_iter) or scale the data as shown in:\n",
            "    https://scikit-learn.org/stable/modules/preprocessing.html\n",
            "Please also refer to the documentation for alternative solver options:\n",
            "    https://scikit-learn.org/stable/modules/linear_model.html#logistic-regression\n",
            "  n_iter_i = _check_optimize_result(\n",
            "/usr/local/lib/python3.10/dist-packages/sklearn/linear_model/_logistic.py:469: ConvergenceWarning: lbfgs failed to converge (status=1):\n",
            "STOP: TOTAL NO. of ITERATIONS REACHED LIMIT.\n",
            "\n",
            "Increase the number of iterations (max_iter) or scale the data as shown in:\n",
            "    https://scikit-learn.org/stable/modules/preprocessing.html\n",
            "Please also refer to the documentation for alternative solver options:\n",
            "    https://scikit-learn.org/stable/modules/linear_model.html#logistic-regression\n",
            "  n_iter_i = _check_optimize_result(\n"
          ]
        },
        {
          "output_type": "stream",
          "name": "stdout",
          "text": [
            "[False  True False  True False  True False False  True False  True False]\n",
            "[6 1 7 1 2 1 4 8 1 5 1 3]\n"
          ]
        }
      ]
    },
    {
      "cell_type": "markdown",
      "source": [
        "\n",
        "Lasso Regression"
      ],
      "metadata": {
        "id": "LusyPa32OZPB"
      }
    },
    {
      "cell_type": "code",
      "execution_count": 13,
      "metadata": {
        "colab": {
          "base_uri": "https://localhost:8080/"
        },
        "id": "pE66jZ-SNOkc",
        "outputId": "d6ea9e57-e55a-4263-a82d-6fa2f3572aa0"
      },
      "outputs": [
        {
          "output_type": "stream",
          "name": "stdout",
          "text": [
            "[-4.95623930e-07 -1.05158821e-01 -6.13969442e-05 -4.76434218e-01\n",
            "  0.00000000e+00 -1.90088849e-02 -0.00000000e+00 -1.44376644e-04\n",
            "  0.00000000e+00 -7.68112805e-04 -2.86584916e-02 -0.00000000e+00]\n"
          ]
        }
      ],
      "source": [
        "\n",
        "\n",
        "\n",
        "\n",
        "\n",
        "\n",
        "\n",
        "\n",
        "\n",
        "\n",
        "\n",
        "\n",
        "\n",
        "from sklearn.linear_model import Lasso\n",
        "lasso = Lasso(alpha=0.01)\n",
        "lasso.fit(df.drop('Survived', axis=1), df['Survived'])\n",
        "print(lasso.coef_)\n",
        "\n"
      ]
    }
  ]
}