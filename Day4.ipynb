{
  "nbformat": 4,
  "nbformat_minor": 0,
  "metadata": {
    "colab": {
      "provenance": [],
      "authorship_tag": "ABX9TyMJkakXqcuQmxOsRaIKDcSc",
      "include_colab_link": true
    },
    "kernelspec": {
      "name": "python3",
      "display_name": "Python 3"
    },
    "language_info": {
      "name": "python"
    }
  },
  "cells": [
    {
      "cell_type": "markdown",
      "metadata": {
        "id": "view-in-github",
        "colab_type": "text"
      },
      "source": [
        "<a href=\"https://colab.research.google.com/github/MehrdadJalali-AI/Statistics-and-Machine-Learning/blob/main/Day4.ipynb\" target=\"_parent\"><img src=\"https://colab.research.google.com/assets/colab-badge.svg\" alt=\"Open In Colab\"/></a>"
      ]
    },
    {
      "cell_type": "markdown",
      "source": [
        "**Step 1: Generate Sample Data**\n",
        "\n",
        "We will start by generating sample data with a mean of 45,000 and a standard deviation of 4,500 for a sample size of 1,000."
      ],
      "metadata": {
        "id": "8nIEF-8qYZDn"
      }
    },
    {
      "cell_type": "code",
      "execution_count": null,
      "metadata": {
        "colab": {
          "base_uri": "https://localhost:8080/"
        },
        "id": "-twKoLWQXehG",
        "outputId": "bef4f63c-70d8-45d3-ae34-b21f5d642277"
      },
      "outputs": [
        {
          "output_type": "stream",
          "name": "stdout",
          "text": [
            "Sample Data (first 10 values): [47235.21368855 44377.81064473 47914.59842145 51853.63435384\n",
            " 43946.30981374 43946.38369373 52106.45766978 48453.45628119\n",
            " 42887.36526329 47441.52019614]\n"
          ]
        }
      ],
      "source": [
        "import numpy as np\n",
        "\n",
        "# Parameters\n",
        "population_mean = 45000\n",
        "sample_std_dev = 4500\n",
        "sample_size = 1000\n",
        "\n",
        "# Generate sample data\n",
        "np.random.seed(42)  # for reproducibility\n",
        "sample_data = np.random.normal(population_mean, sample_std_dev, sample_size)\n",
        "\n",
        "# Display the first 10 values of the generated sample data\n",
        "print(\"Sample Data (first 10 values):\", sample_data[:10])\n"
      ]
    },
    {
      "cell_type": "markdown",
      "source": [
        "**Step 2: Exercise 1 - Calculate Confidence Interval**"
      ],
      "metadata": {
        "id": "E0NLHFYWY-30"
      }
    },
    {
      "cell_type": "code",
      "source": [
        "import scipy.stats as stats\n",
        "\n",
        "# Sample mean and margin of error for 95% confidence interval\n",
        "sample_mean = np.mean(sample_data)\n",
        "z_value = stats.norm.ppf(1 - (1 - 0.95) / 2)\n",
        "margin_of_error = z_value * (sample_std_dev / np.sqrt(sample_size))\n",
        "\n",
        "confidence_interval = (sample_mean - margin_of_error, sample_mean + margin_of_error)\n",
        "print(f\"Exercise 1 - 95% Confidence Interval for average income: {confidence_interval}\")\n"
      ],
      "metadata": {
        "colab": {
          "base_uri": "https://localhost:8080/"
        },
        "id": "b4SzR4HcYyFL",
        "outputId": "4c47b109-3853-4ee6-c1a7-d39e587c5c99"
      },
      "execution_count": 2,
      "outputs": [
        {
          "output_type": "stream",
          "name": "stdout",
          "text": [
            "Exercise 1 - 95% Confidence Interval for average income: (44808.086486663415, 45365.90201573753)\n"
          ]
        }
      ]
    },
    {
      "cell_type": "markdown",
      "source": [
        "**Step 3: Exercise 2 - Hypothesis Testing**"
      ],
      "metadata": {
        "id": "-fOjHvFwZGl6"
      }
    },
    {
      "cell_type": "code",
      "source": [
        "from scipy.stats import ttest_1samp\n",
        "\n",
        "# Test value for the population mean\n",
        "population_mean_to_test = 47000\n",
        "\n",
        "# One-sample t-test\n",
        "t_statistic, p_value = ttest_1samp(sample_data, population_mean_to_test)\n",
        "\n",
        "# Significance level\n",
        "alpha = 0.05\n",
        "\n",
        "print(f\"\\nExercise 2 - T-statistic: {t_statistic}\")\n",
        "print(f\"P-value: {p_value}\")\n",
        "if p_value < alpha:\n",
        "    print(\"Reject the null hypothesis: The average income is significantly greater than $47,000.\")\n",
        "else:\n",
        "    print(\"Fail to reject the null hypothesis: No significant evidence that average income is above $47,000.\")\n"
      ],
      "metadata": {
        "colab": {
          "base_uri": "https://localhost:8080/"
        },
        "id": "rOjQ_aRdZFV1",
        "outputId": "67fcce0d-6ba8-4822-d7b9-ec2a55c48d53"
      },
      "execution_count": 6,
      "outputs": [
        {
          "output_type": "stream",
          "name": "stdout",
          "text": [
            "\n",
            "Exercise 2 - T-statistic: -13.728569533902661\n",
            "P-value: 2.0312021008999865e-39\n",
            "Reject the null hypothesis: The average income is significantly greater than $47,000.\n"
          ]
        }
      ]
    },
    {
      "cell_type": "markdown",
      "source": [
        "**Generate Additional Sample Data**"
      ],
      "metadata": {
        "id": "Ngaugn7jZpGe"
      }
    },
    {
      "cell_type": "code",
      "source": [
        "# Generating data for three cities\n",
        "city_a_income = np.random.normal(45000, 5000, 1000)\n",
        "city_b_income = np.random.normal(47000, 5000, 1000)\n",
        "city_c_income = np.random.normal(46000, 5000, 1000)\n",
        "\n",
        "# Display first 5 values of each city's income data\n",
        "print(\"City A Income (first 5 values):\", city_a_income[:5])\n",
        "print(\"City B Income (first 5 values):\", city_b_income[:5])\n",
        "print(\"City C Income (first 5 values):\", city_c_income[:5])\n"
      ],
      "metadata": {
        "colab": {
          "base_uri": "https://localhost:8080/"
        },
        "id": "YXE1EoFuZnnI",
        "outputId": "d7baddd2-b71d-497d-cc54-b2cc7da36a23"
      },
      "execution_count": 8,
      "outputs": [
        {
          "output_type": "stream",
          "name": "stdout",
          "text": [
            "City A Income (first 5 values): [51996.77718293 49623.16841456 45298.1518496  41765.31611147\n",
            " 48491.11656807]\n",
            "City B Income (first 5 values): [43624.10862513 46277.40664642 43037.900395   45460.1923518\n",
            " 37531.92666523]\n",
            "City C Income (first 5 values): [36460.96221061 41698.0749461  43931.97233289 55438.4382867\n",
            " 48782.76562267]\n"
          ]
        }
      ]
    },
    {
      "cell_type": "markdown",
      "source": [
        "**Independent Two-Sample t-test between City A and City B**"
      ],
      "metadata": {
        "id": "0_Ej-8IlZx41"
      }
    },
    {
      "cell_type": "code",
      "source": [
        "from scipy.stats import ttest_ind\n",
        "\n",
        "# Independent two-sample t-test\n",
        "t_statistic_ab, p_value_ab = ttest_ind(city_a_income, city_b_income)\n",
        "\n",
        "print(f\"\\nT-statistic (City A vs City B): {t_statistic_ab}\")\n",
        "print(f\"P-value: {p_value_ab}\")\n",
        "if p_value_ab < alpha:\n",
        "    print(\"Reject the null hypothesis: There is a significant difference in average income between City A and City B.\")\n",
        "else:\n",
        "    print(\"Fail to reject the null hypothesis: No significant difference in average income between City A and City B.\")\n"
      ],
      "metadata": {
        "colab": {
          "base_uri": "https://localhost:8080/"
        },
        "id": "ll7X92pdZwYX",
        "outputId": "77d21493-2707-48f8-b0e6-fd93d24607be"
      },
      "execution_count": 10,
      "outputs": [
        {
          "output_type": "stream",
          "name": "stdout",
          "text": [
            "\n",
            "T-statistic (City A vs City B): -7.562787299722131\n",
            "P-value: 5.978616169664526e-14\n",
            "Reject the null hypothesis: There is a significant difference in average income between City A and City B.\n"
          ]
        }
      ]
    },
    {
      "cell_type": "markdown",
      "source": [
        "**ANOVA among City A, City B, and City C**"
      ],
      "metadata": {
        "id": "51yuDnmWZ7oS"
      }
    },
    {
      "cell_type": "code",
      "source": [
        "from scipy.stats import f_oneway\n",
        "\n",
        "# One-way ANOVA\n",
        "f_statistic_abc, p_value_abc = f_oneway(city_a_income, city_b_income, city_c_income)\n",
        "# The F-statistic (f_statistic_abc) measures the ratio of the variance between the group means to the variance within the groups.\n",
        "# A higher F-statistic indicates that there is more variability between the groups compared to within the groups, suggesting a significant difference in means.\n",
        "print(f\"\\nF-statistic (ANOVA across City A, City B, and City C): {f_statistic_abc}\")\n",
        "print(f\"P-value: {p_value_abc}\")\n",
        "if p_value_abc < alpha:\n",
        "    print(\"Reject the null hypothesis: There is a significant difference in average income among the cities.\")\n",
        "else:\n",
        "    print(\"Fail to reject the null hypothesis: No significant difference in average income among the cities.\")\n"
      ],
      "metadata": {
        "colab": {
          "base_uri": "https://localhost:8080/"
        },
        "id": "ApJJUL0AZ83p",
        "outputId": "a3543ec6-5267-4526-ddb3-d6c193ee8c7a"
      },
      "execution_count": 11,
      "outputs": [
        {
          "output_type": "stream",
          "name": "stdout",
          "text": [
            "\n",
            "F-statistic (ANOVA across City A, City B, and City C): 28.975830573510713\n",
            "P-value: 3.4361863347647236e-13\n",
            "Reject the null hypothesis: There is a significant difference in average income among the cities.\n"
          ]
        }
      ]
    }
  ]
}