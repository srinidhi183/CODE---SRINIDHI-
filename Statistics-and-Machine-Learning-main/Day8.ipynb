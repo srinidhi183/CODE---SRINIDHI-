{
  "cells": [
    {
      "cell_type": "markdown",
      "metadata": {
        "id": "view-in-github",
        "colab_type": "text"
      },
      "source": [
        "<a href=\"https://colab.research.google.com/github/MehrdadJalali-AI/Statistics-and-Machine-Learning/blob/main/Day8.ipynb\" target=\"_parent\"><img src=\"https://colab.research.google.com/assets/colab-badge.svg\" alt=\"Open In Colab\"/></a>"
      ]
    },
    {
      "cell_type": "markdown",
      "id": "78315c43",
      "metadata": {
        "id": "78315c43"
      },
      "source": [
        "# Supervised Learning Models and Evaluation Techniques"
      ]
    },
    {
      "cell_type": "markdown",
      "id": "7bee9da0",
      "metadata": {
        "id": "7bee9da0"
      },
      "source": [
        "\n",
        "This notebook covers supervised learning models with a focus on **classification**. We will implement:\n",
        "1. **Decision Trees**\n",
        "2. **Random Forest**\n",
        "3. **K-Nearest Neighbors (KNN)**\n",
        "\n",
        "We will also explore model evaluation techniques like **Holdout Validation** and **K-Fold Cross-Validation** using metrics such as **accuracy**, **precision**, **recall**, and **F1-score**.\n"
      ]
    },
    {
      "cell_type": "markdown",
      "id": "3c5f7db8",
      "metadata": {
        "id": "3c5f7db8"
      },
      "source": [
        "## Step 1: Import Libraries"
      ]
    },
    {
      "cell_type": "code",
      "execution_count": null,
      "id": "c021b11d",
      "metadata": {
        "id": "c021b11d"
      },
      "outputs": [],
      "source": [
        "\n",
        "import numpy as np\n",
        "import pandas as pd\n",
        "from sklearn.model_selection import train_test_split, KFold, cross_val_score\n",
        "from sklearn.tree import DecisionTreeClassifier\n",
        "from sklearn.ensemble import RandomForestClassifier\n",
        "from sklearn.neighbors import KNeighborsClassifier\n",
        "from sklearn.metrics import accuracy_score, precision_score, recall_score, f1_score, classification_report\n"
      ]
    },
    {
      "cell_type": "markdown",
      "id": "820e463e",
      "metadata": {
        "id": "820e463e"
      },
      "source": [
        "## Step 2: Create a Synthetic Dataset"
      ]
    },
    {
      "cell_type": "code",
      "execution_count": null,
      "id": "ea0989b1",
      "metadata": {
        "id": "ea0989b1"
      },
      "outputs": [],
      "source": [
        "\n",
        "# Creating a synthetic dataset\n",
        "from sklearn.datasets import make_classification\n",
        "X, y = make_classification(n_samples=200, n_features=4, n_classes=2, random_state=42)\n",
        "\n",
        "# Split data into training and testing sets (Holdout method)\n",
        "X_train, X_test, y_train, y_test = train_test_split(X, y, test_size=0.2, random_state=42)\n"
      ]
    },
    {
      "cell_type": "markdown",
      "id": "589027be",
      "metadata": {
        "id": "589027be"
      },
      "source": [
        "## Step 3: Decision Tree Classifier"
      ]
    },
    {
      "cell_type": "code",
      "execution_count": null,
      "id": "aa1a6fb6",
      "metadata": {
        "id": "aa1a6fb6"
      },
      "outputs": [],
      "source": [
        "\n",
        "# Initialize and train the Decision Tree Classifier\n",
        "tree_clf = DecisionTreeClassifier(random_state=42)\n",
        "tree_clf.fit(X_train, y_train)\n",
        "\n",
        "# Predictions and Evaluation\n",
        "y_pred_tree = tree_clf.predict(X_test)\n",
        "\n",
        "# Evaluation Metrics\n",
        "print(\"Decision Tree Classifier Results\")\n",
        "print(\"Accuracy:\", accuracy_score(y_test, y_pred_tree))\n",
        "print(\"Precision:\", precision_score(y_test, y_pred_tree))\n",
        "print(\"Recall:\", recall_score(y_test, y_pred_tree))\n",
        "print(\"F1 Score:\", f1_score(y_test, y_pred_tree))\n"
      ]
    },
    {
      "cell_type": "markdown",
      "id": "a84c2df7",
      "metadata": {
        "id": "a84c2df7"
      },
      "source": [
        "## Step 4: Random Forest Classifier"
      ]
    },
    {
      "cell_type": "code",
      "execution_count": null,
      "id": "f0009df2",
      "metadata": {
        "id": "f0009df2"
      },
      "outputs": [],
      "source": [
        "\n",
        "# Initialize and train the Random Forest Classifier\n",
        "rf_clf = RandomForestClassifier(n_estimators=100, random_state=42)\n",
        "rf_clf.fit(X_train, y_train)\n",
        "\n",
        "# Predictions and Evaluation\n",
        "y_pred_rf = rf_clf.predict(X_test)\n",
        "\n",
        "# Evaluation Metrics\n",
        "print(\"Random Forest Classifier Results\")\n",
        "print(\"Accuracy:\", accuracy_score(y_test, y_pred_rf))\n",
        "print(\"Precision:\", precision_score(y_test, y_pred_rf))\n",
        "print(\"Recall:\", recall_score(y_test, y_pred_rf))\n",
        "print(\"F1 Score:\", f1_score(y_test, y_pred_rf))\n"
      ]
    },
    {
      "cell_type": "markdown",
      "id": "360e8e7c",
      "metadata": {
        "id": "360e8e7c"
      },
      "source": [
        "## Step 5: K-Nearest Neighbors Classifier"
      ]
    },
    {
      "cell_type": "code",
      "execution_count": null,
      "id": "817a9609",
      "metadata": {
        "id": "817a9609"
      },
      "outputs": [],
      "source": [
        "\n",
        "# Initialize and train the K-Nearest Neighbors Classifier\n",
        "knn_clf = KNeighborsClassifier(n_neighbors=5)\n",
        "knn_clf.fit(X_train, y_train)\n",
        "\n",
        "# Predictions and Evaluation\n",
        "y_pred_knn = knn_clf.predict(X_test)\n",
        "\n",
        "# Evaluation Metrics\n",
        "print(\"K-Nearest Neighbors Classifier Results\")\n",
        "print(\"Accuracy:\", accuracy_score(y_test, y_pred_knn))\n",
        "print(\"Precision:\", precision_score(y_test, y_pred_knn))\n",
        "print(\"Recall:\", recall_score(y_test, y_pred_knn))\n",
        "print(\"F1 Score:\", f1_score(y_test, y_pred_knn))\n"
      ]
    },
    {
      "cell_type": "markdown",
      "id": "0d86e773",
      "metadata": {
        "id": "0d86e773"
      },
      "source": [
        "## Step 6: Model Evaluation with K-Fold Cross-Validation"
      ]
    },
    {
      "cell_type": "code",
      "execution_count": null,
      "id": "596d2a2e",
      "metadata": {
        "id": "596d2a2e"
      },
      "outputs": [],
      "source": [
        "\n",
        "# K-Fold Cross-Validation\n",
        "kf = KFold(n_splits=5, shuffle=True, random_state=42)\n",
        "models = {\"Decision Tree\": tree_clf, \"Random Forest\": rf_clf, \"KNN\": knn_clf}\n",
        "\n",
        "for model_name, model in models.items():\n",
        "    accuracy_scores = cross_val_score(model, X, y, cv=kf, scoring='accuracy')\n",
        "    print(f\"{model_name} - Average Accuracy: {np.mean(accuracy_scores):.2f}\")\n"
      ]
    },
    {
      "cell_type": "markdown",
      "id": "55670f2b",
      "metadata": {
        "id": "55670f2b"
      },
      "source": [
        "## Exercises"
      ]
    },
    {
      "cell_type": "markdown",
      "id": "a8e01682",
      "metadata": {
        "id": "a8e01682"
      },
      "source": [
        "\n",
        "**Exercise 1**: Try different values of `n_neighbors` in KNN and observe how it affects performance.\n",
        "\n",
        "**Exercise 2**: Experiment with different numbers of trees (e.g., 50, 100, 200) in the Random Forest model and see the impact on accuracy.\n",
        "\n",
        "**Exercise 3**: Modify the `max_depth` parameter in Decision Tree to control tree depth and observe its effect on overfitting or underfitting.\n"
      ]
    }
  ],
  "metadata": {
    "colab": {
      "provenance": [],
      "include_colab_link": true
    }
  },
  "nbformat": 4,
  "nbformat_minor": 5
}