{
  "nbformat": 4,
  "nbformat_minor": 0,
  "metadata": {
    "colab": {
      "provenance": [],
      "authorship_tag": "ABX9TyPVe8pGViAth4x4GPHOQx3c",
      "include_colab_link": true
    },
    "kernelspec": {
      "name": "python3",
      "display_name": "Python 3"
    },
    "language_info": {
      "name": "python"
    }
  },
  "cells": [
    {
      "cell_type": "markdown",
      "metadata": {
        "id": "view-in-github",
        "colab_type": "text"
      },
      "source": [
        "<a href=\"https://colab.research.google.com/github/MehrdadJalali-KIT/Statistics-and-Machine-Learning/blob/main/C2_ML_PracticalApplication.ipynb\" target=\"_parent\"><img src=\"https://colab.research.google.com/assets/colab-badge.svg\" alt=\"Open In Colab\"/></a>"
      ]
    },
    {
      "cell_type": "markdown",
      "source": [],
      "metadata": {
        "id": "KfreaksOe8Z_"
      }
    },
    {
      "cell_type": "markdown",
      "source": [
        "# Predicting Pore Limiting Diameter (PLD) in a MOF Dataset\n",
        "\n",
        "<img src=\"https://github.com/MehrdadJalali-KIT/PredictiveModelingDemo/raw/main/MOF.png\" alt=\"MOF\" width=\"200\" height=\"200\">\n",
        "\n",
        "**Objective:**\n",
        "The goal of this code is to load and explore a dataset related to Metal-Organic Frameworks (MOFs) and to set up the initial steps for predicting the Pores Limiting Diameter (PLD) of MOF structures.\n",
        "\n",
        "**Code Explanation:**\n",
        "\n",
        "1. **Library Import:** In the first step, we import the necessary Python libraries for data manipulation and analysis. The key library used here is `pandas`, which is commonly used for working with structured data.\n",
        "\n",
        "2. **Define Data Source:** We specify the source of our dataset by providing the URL to a raw CSV file on GitHub. The dataset contains information related to MOFs.\n",
        "\n",
        "\n",
        "\n",
        "\n",
        "\n",
        "\n",
        "\n"
      ],
      "metadata": {
        "id": "iOUxYuxix53x"
      }
    },
    {
      "cell_type": "markdown",
      "source": [
        "<font color=\"blue\">**Step 1: Import Required Libraries**</font>"
      ],
      "metadata": {
        "id": "MAbzBYVvymlO"
      }
    },
    {
      "cell_type": "code",
      "source": [
        "# Import pandas library as 'pd' for data manipulation and analysis\n",
        "import pandas as pd\n",
        "\n",
        "# Import SimpleImputer from sklearn(scikit-learn)to handle missing data imputation\n",
        "from sklearn.impute import SimpleImputer\n",
        "\n",
        "# Import MinMaxScaler from sklearn for feature scaling\n",
        "from sklearn.preprocessing import MinMaxScaler\n",
        "\n",
        "# Import train_test_split from sklearn to split the dataset into training and testing sets\n",
        "from sklearn.model_selection import train_test_split\n",
        "\n",
        "# Import LogisticRegression and DecisionTreeClassifier from sklearn for classification models\n",
        "from sklearn.linear_model import LogisticRegression\n",
        "from sklearn.tree import DecisionTreeClassifier\n",
        "\n",
        "# Import classification_report, confusion_matrix, accuracy_score, and precision_recall_fscore_support\n",
        "# from sklearn.metrics for model evaluation\n",
        "from sklearn.metrics import classification_report, confusion_matrix, accuracy_score, precision_recall_fscore_support\n",
        "\n",
        "# Import matplotlib.pyplot as 'plt' for data visualization\n",
        "import matplotlib.pyplot as plt\n",
        "\n",
        "# Import seaborn as 'sns' for enhanced data visualization\n",
        "import seaborn as sns\n",
        "\n"
      ],
      "metadata": {
        "id": "ENvYOacbykH6"
      },
      "execution_count": null,
      "outputs": []
    },
    {
      "cell_type": "markdown",
      "source": [
        "<font color=\"blue\">**Step 2: Load the Dataset**</font>\n",
        "\n",
        "In this step, we load the dataset from a remote URL using the Pandas library. The dataset, located at the following URL, contains information about..."
      ],
      "metadata": {
        "id": "JnwXl2TSw8WW"
      }
    },
    {
      "cell_type": "code",
      "source": [
        "# Load the dataset\n",
        "url = \"https://raw.githubusercontent.com/MehrdadJalali-KIT/PredictiveModelingDemo/main/MOF3.csv\"\n",
        "df = pd.read_csv(url) # load csv file and put into a dataframe (df)\n",
        "\n",
        "#print the dimensions (shape) of the DataFrame\n",
        "print(\"Dimention(Shape) of Dataset:\",df.shape)\n",
        "\n",
        "# Display the first 20 rows of the dataset in a table\n",
        "df.head(20)\n"
      ],
      "metadata": {
        "id": "ZxzxyfWaxBcH"
      },
      "execution_count": null,
      "outputs": []
    },
    {
      "cell_type": "markdown",
      "source": [
        "<font color=\"blue\">**Step 3: Data Preprocessing**</font>\n",
        "\n",
        "Before training our predictive model, we need to preprocess the dataset. This involves handling missing values and normalizing the features.\n",
        "# Data Imputation and data Normalization\n",
        "\n",
        "We use mean method for data imputation for filling missign values.\n",
        "We use the Min-Max scaling technique to normalize the data. This technique rescales the data so that it falls within the specified range. The formula for Min-Max scaling is as follows:"
      ],
      "metadata": {
        "id": "l3CI3VUkxEEl"
      }
    },
    {
      "cell_type": "code",
      "source": [
        "# Separate input features and target labels\n",
        "X = df.iloc[:, :-1]\n",
        "y = df.iloc[:, -1]\n",
        "\n",
        "# Impute missing values with mean strategy\n",
        "imputer = SimpleImputer(strategy='mean')\n",
        "X_imputed = imputer.fit_transform(X)\n",
        "\n",
        "# Normalize the features using StandardScaler\n",
        "scaler = MinMaxScaler()\n",
        "X_normalized = scaler.fit_transform(X_imputed)\n",
        "\n",
        "# Transfer X_normalized to the data frame\n",
        "df_output = pd.DataFrame(X_normalized)\n",
        "\n",
        "# Print the first 20 rows\n",
        "df_output.head(20)\n"
      ],
      "metadata": {
        "id": "n4cWtEhUxQkI"
      },
      "execution_count": null,
      "outputs": []
    },
    {
      "cell_type": "markdown",
      "source": [
        "<font color=\"blue\"> Plot data scaling </font>\n",
        "The box plot visually compares the distribution of feature values before and after normalization, showing the impact of the scaling process on the data."
      ],
      "metadata": {
        "id": "IOkpkqhYD7w6"
      }
    },
    {
      "cell_type": "code",
      "source": [
        "# Create box plots for the original data and the normalized data\n",
        "plt.figure(figsize=(12, 6))\n",
        "\n",
        "# Box plot for the original data\n",
        "plt.subplot(1, 2, 1)\n",
        "sns.boxplot(data=X_imputed, orient='vertical')\n",
        "plt.title('Box Plot (Original Data)')\n",
        "plt.xticks(rotation=90)  # Rotate x-axis labels vertically\n",
        "\n",
        "# Box plot for the normalized data\n",
        "plt.subplot(1, 2, 2)\n",
        "sns.boxplot(data=X_normalized, orient='vertical')\n",
        "plt.title('Box Plot (Normalized Data)')\n",
        "sns.set(font_scale=1)\n",
        "plt.xticks(rotation=90)  # Rotate x-axis labels vertically\n",
        "\n",
        "plt.tight_layout()\n",
        "plt.show()"
      ],
      "metadata": {
        "id": "c0qTV5I1Dniu"
      },
      "execution_count": null,
      "outputs": []
    },
    {
      "cell_type": "markdown",
      "source": [
        "<font color=\"blue\">**Step 4: Split Train and Test**</font>\n",
        "\n",
        "Now that we have preprocessed the data, we split it into training and testing sets."
      ],
      "metadata": {
        "id": "jSjxzcZhxR4S"
      }
    },
    {
      "cell_type": "code",
      "source": [
        "# Split the dataset into training and testing sets\n",
        "X_train, X_test, y_train, y_test = train_test_split(X_normalized, y, test_size=0.2)\n",
        "# Print the number of training and testing samples\n",
        "print(\"Number of training samples:\", X_train.shape[0])\n",
        "print(\"Number of testing samples:\", X_test.shape[0])\n",
        "\n",
        "\n",
        "\n"
      ],
      "metadata": {
        "colab": {
          "base_uri": "https://localhost:8080/"
        },
        "id": "n8s1p4kjxXZy",
        "outputId": "b490bbc7-b361-403d-d5ac-d875143d14ea"
      },
      "execution_count": null,
      "outputs": [
        {
          "output_type": "stream",
          "name": "stdout",
          "text": [
            "Number of training samples: 806\n",
            "Number of testing samples: 202\n"
          ]
        }
      ]
    },
    {
      "cell_type": "markdown",
      "source": [
        "<font color=\"blue\">**Step 5: Train the model**</font>\n",
        "\n",
        "train a Logistic Regression model."
      ],
      "metadata": {
        "id": "HiWMSwQEFGo2"
      }
    },
    {
      "cell_type": "code",
      "source": [
        "# Train a Logistic Regression model\n",
        "model = DecisionTreeClassifier()\n",
        "\n",
        "\n",
        "#This is the method call to fit (train) the classifier on the training data. It takes two arguments\n",
        "model.fit(X_train, y_train)"
      ],
      "metadata": {
        "id": "XR8-T951E2dc",
        "colab": {
          "base_uri": "https://localhost:8080/",
          "height": 75
        },
        "outputId": "631ad775-887d-476d-8df9-f771e56a287f"
      },
      "execution_count": null,
      "outputs": [
        {
          "output_type": "execute_result",
          "data": {
            "text/plain": [
              "DecisionTreeClassifier()"
            ],
            "text/html": [
              "<style>#sk-container-id-1 {color: black;background-color: white;}#sk-container-id-1 pre{padding: 0;}#sk-container-id-1 div.sk-toggleable {background-color: white;}#sk-container-id-1 label.sk-toggleable__label {cursor: pointer;display: block;width: 100%;margin-bottom: 0;padding: 0.3em;box-sizing: border-box;text-align: center;}#sk-container-id-1 label.sk-toggleable__label-arrow:before {content: \"▸\";float: left;margin-right: 0.25em;color: #696969;}#sk-container-id-1 label.sk-toggleable__label-arrow:hover:before {color: black;}#sk-container-id-1 div.sk-estimator:hover label.sk-toggleable__label-arrow:before {color: black;}#sk-container-id-1 div.sk-toggleable__content {max-height: 0;max-width: 0;overflow: hidden;text-align: left;background-color: #f0f8ff;}#sk-container-id-1 div.sk-toggleable__content pre {margin: 0.2em;color: black;border-radius: 0.25em;background-color: #f0f8ff;}#sk-container-id-1 input.sk-toggleable__control:checked~div.sk-toggleable__content {max-height: 200px;max-width: 100%;overflow: auto;}#sk-container-id-1 input.sk-toggleable__control:checked~label.sk-toggleable__label-arrow:before {content: \"▾\";}#sk-container-id-1 div.sk-estimator input.sk-toggleable__control:checked~label.sk-toggleable__label {background-color: #d4ebff;}#sk-container-id-1 div.sk-label input.sk-toggleable__control:checked~label.sk-toggleable__label {background-color: #d4ebff;}#sk-container-id-1 input.sk-hidden--visually {border: 0;clip: rect(1px 1px 1px 1px);clip: rect(1px, 1px, 1px, 1px);height: 1px;margin: -1px;overflow: hidden;padding: 0;position: absolute;width: 1px;}#sk-container-id-1 div.sk-estimator {font-family: monospace;background-color: #f0f8ff;border: 1px dotted black;border-radius: 0.25em;box-sizing: border-box;margin-bottom: 0.5em;}#sk-container-id-1 div.sk-estimator:hover {background-color: #d4ebff;}#sk-container-id-1 div.sk-parallel-item::after {content: \"\";width: 100%;border-bottom: 1px solid gray;flex-grow: 1;}#sk-container-id-1 div.sk-label:hover label.sk-toggleable__label {background-color: #d4ebff;}#sk-container-id-1 div.sk-serial::before {content: \"\";position: absolute;border-left: 1px solid gray;box-sizing: border-box;top: 0;bottom: 0;left: 50%;z-index: 0;}#sk-container-id-1 div.sk-serial {display: flex;flex-direction: column;align-items: center;background-color: white;padding-right: 0.2em;padding-left: 0.2em;position: relative;}#sk-container-id-1 div.sk-item {position: relative;z-index: 1;}#sk-container-id-1 div.sk-parallel {display: flex;align-items: stretch;justify-content: center;background-color: white;position: relative;}#sk-container-id-1 div.sk-item::before, #sk-container-id-1 div.sk-parallel-item::before {content: \"\";position: absolute;border-left: 1px solid gray;box-sizing: border-box;top: 0;bottom: 0;left: 50%;z-index: -1;}#sk-container-id-1 div.sk-parallel-item {display: flex;flex-direction: column;z-index: 1;position: relative;background-color: white;}#sk-container-id-1 div.sk-parallel-item:first-child::after {align-self: flex-end;width: 50%;}#sk-container-id-1 div.sk-parallel-item:last-child::after {align-self: flex-start;width: 50%;}#sk-container-id-1 div.sk-parallel-item:only-child::after {width: 0;}#sk-container-id-1 div.sk-dashed-wrapped {border: 1px dashed gray;margin: 0 0.4em 0.5em 0.4em;box-sizing: border-box;padding-bottom: 0.4em;background-color: white;}#sk-container-id-1 div.sk-label label {font-family: monospace;font-weight: bold;display: inline-block;line-height: 1.2em;}#sk-container-id-1 div.sk-label-container {text-align: center;}#sk-container-id-1 div.sk-container {/* jupyter's `normalize.less` sets `[hidden] { display: none; }` but bootstrap.min.css set `[hidden] { display: none !important; }` so we also need the `!important` here to be able to override the default hidden behavior on the sphinx rendered scikit-learn.org. See: https://github.com/scikit-learn/scikit-learn/issues/21755 */display: inline-block !important;position: relative;}#sk-container-id-1 div.sk-text-repr-fallback {display: none;}</style><div id=\"sk-container-id-1\" class=\"sk-top-container\"><div class=\"sk-text-repr-fallback\"><pre>DecisionTreeClassifier()</pre><b>In a Jupyter environment, please rerun this cell to show the HTML representation or trust the notebook. <br />On GitHub, the HTML representation is unable to render, please try loading this page with nbviewer.org.</b></div><div class=\"sk-container\" hidden><div class=\"sk-item\"><div class=\"sk-estimator sk-toggleable\"><input class=\"sk-toggleable__control sk-hidden--visually\" id=\"sk-estimator-id-1\" type=\"checkbox\" checked><label for=\"sk-estimator-id-1\" class=\"sk-toggleable__label sk-toggleable__label-arrow\">DecisionTreeClassifier</label><div class=\"sk-toggleable__content\"><pre>DecisionTreeClassifier()</pre></div></div></div></div></div>"
            ]
          },
          "metadata": {},
          "execution_count": 9
        }
      ]
    },
    {
      "cell_type": "markdown",
      "source": [
        "<font color=\"blue\">**Step 6: Evaluate Model Performance**</font>\n",
        "\n",
        "With the model trained, we can now evaluate its performance. We will calculate various classification metrics such as precision, recall, F1-score, and accuracy."
      ],
      "metadata": {
        "id": "qyRi3wv0xfX4"
      }
    },
    {
      "cell_type": "code",
      "source": [
        "# Predict on the test set with dt_classifier which previously trained\n",
        "y_pred = model.predict(X_test)\n",
        "\n",
        "# Calculate precision, recall, F1-score, and accuracy\n",
        "precision, recall, f1_score, _ = precision_recall_fscore_support(y_test, y_pred, average='macro')\n",
        "accuracy = accuracy_score(y_test, y_pred)\n"
      ],
      "metadata": {
        "id": "VD_wt5Y2xhjX"
      },
      "execution_count": null,
      "outputs": []
    },
    {
      "cell_type": "markdown",
      "source": [
        "<font color=\"blue\">**Step 6: Visualize Results** </font>\n",
        "\n",
        "Finally, we visualize the results of our predictive model by creating a bar plot of classification metrics and a confusion matrix."
      ],
      "metadata": {
        "id": "G4JD85oQxjH6"
      }
    },
    {
      "cell_type": "code",
      "source": [
        "# Create a bar plot to compare metrics with different shades of green\n",
        "metrics = ['Accuracy', 'Precision', 'Recall', 'F1-Score']\n",
        "values = [accuracy, precision, recall, f1_score]\n",
        "\n",
        "# Define different shades of green for bars\n",
        "colors = ['#7FB876', '#67A84F', '#4C8E29', '#357913']\n",
        "\n",
        "plt.figure(figsize=(10, 5))\n",
        "plt.subplot(1, 2, 1)\n",
        "bars = plt.bar(metrics, values, color=colors)\n",
        "plt.title('Classification Metrics')\n",
        "plt.ylabel('Score')\n",
        "\n",
        "# Add labels to the bars\n",
        "for i, bar in enumerate(bars):\n",
        "    plt.text(bar.get_x() + bar.get_width() / 2, bar.get_height() + 0.01, round(values[i], 3), ha='center', color='black')\n",
        "\n",
        "# Generate confusion matrix\n",
        "conf_matrix = confusion_matrix(y_test, y_pred)\n",
        "\n",
        "# Plot confusion matrix with different shades of green\n",
        "plt.subplot(1, 2, 2)\n",
        "sns.heatmap(conf_matrix, annot=True, fmt='d', cmap='Greens', cbar=False, xticklabels=['Small', 'Large'], yticklabels=['Small', 'Large'])\n",
        "plt.xlabel('Predicted')\n",
        "plt.ylabel('Actual')\n",
        "plt.title('Confusion Matrix')\n",
        "\n",
        "plt.tight_layout()\n",
        "plt.show()\n"
      ],
      "metadata": {
        "id": "8G4x0ifoxokf",
        "colab": {
          "base_uri": "https://localhost:8080/",
          "height": 501
        },
        "outputId": "8360114d-8bb8-4357-fcf1-c8be4ce5c54e"
      },
      "execution_count": null,
      "outputs": [
        {
          "output_type": "display_data",
          "data": {
            "text/plain": [
              "<Figure size 1000x500 with 2 Axes>"
            ],
            "image/png": "[encoded data removed]"
          },
          "metadata": {}
        }
      ]
    },
    {
      "cell_type": "markdown",
      "source": [
        "<font color=\"blue\">**Step 7: Generate Explanations Using OpenAI GPT-3.5** </font>\n",
        "\n",
        "In this step, we utilize OpenAI's GPT-3.5-turbo, a powerful language model, to generate explanations for machine learning model evaluation metrics. We aim to gain insights into how well our classification model performs in predicting Pores Limiting Diameter (PLD) for MOF materials, where PLD can be categorized as either \"Small\" or \"Large.\""
      ],
      "metadata": {
        "id": "zUHCRhHh5ufb"
      }
    },
    {
      "cell_type": "code",
      "source": [
        "import openai\n",
        "\n",
        "# Set your OpenAI API key\n",
        "openai.api_key = \"???\"\n",
        "\n",
        "\n",
        "# Generate explanations using OpenAI GPT-3\n",
        "explanation_prompt = f\"Provide an explanation for the following machine learning model evaluation metrics, this classification predcit PLD (Pores Limiting Diameter) of each MOF materails, PLD can be Small or Large\\n\\n\" \\\n",
        "                     f\"- Accuracy: {accuracy}\\n\" \\\n",
        "                     f\"- Precision: {precision}\\n\" \\\n",
        "                     f\"- Recall: {recall}\\n\" \\\n",
        "                     f\"- F1-Score: {f1_score}\\n\\n\" \\\n",
        "                     f\"Include insights about the model's performance and what these metrics indicate.\"\n",
        "\n",
        "\n",
        "# Generate an explanation using GPT-3.5-turbo\n",
        "# response = openai.Completion.create(\n",
        "#     model=\"gpt-3.5-turbo\",\n",
        "#     prompt=explanation_prompt,\n",
        "#     max_tokens=100  # Adjust based on the desired length of the explanation\n",
        "# )\n",
        "\n",
        "# Generate an explanation using GPT-3.5-turbo chat model\n",
        "response = openai.ChatCompletion.create(\n",
        "    model=\"gpt-3.5-turbo\",\n",
        "    messages=[\n",
        "        {\"role\": \"system\", \"content\": \"You are a helpful assistant.\"},\n",
        "        {\"role\": \"user\", \"content\": explanation_prompt}\n",
        "    ]\n",
        ")\n",
        "\n",
        "\n",
        "# ...\n",
        "\n",
        "# Extract the generated explanation from the response\n",
        "generated_explanation = response['choices'][0]['message']['content']\n",
        "\n",
        "# Split the generated explanation into sentences\n",
        "sentences = generated_explanation.split('. ')\n",
        "\n",
        "# Print each sentence in blue on a separate row\n",
        "for sentence in sentences:\n",
        "    print(f'\\033[94m{sentence}\\033[0m')  # Use ANSI escape code for blue color\n",
        "\n",
        "# ...\n",
        "\n",
        "\n",
        "# Define different shades of green for bars\n",
        "colors = ['#7FB876', '#67A84F', '#4C8E29', '#357913']\n",
        "\n",
        "plt.figure(figsize=(10, 5))\n",
        "plt.subplot(1, 2, 1)\n",
        "bars = plt.bar(metrics, values, color=colors)\n",
        "plt.title('Classification Metrics')\n",
        "plt.ylabel('Score')\n",
        "\n",
        "# Add labels to the bars\n",
        "for i, bar in enumerate(bars):\n",
        "    plt.text(bar.get_x() + bar.get_width() / 2, bar.get_height() + 0.01, round(values[i], 3), ha='center', color='black')\n",
        "\n",
        "# Plot confusion matrix with different shades of green\n",
        "plt.subplot(1, 2, 2)\n",
        "sns.heatmap(conf_matrix, annot=True, fmt='d', cmap='Greens', cbar=False, xticklabels=['Small', 'Large'], yticklabels=['Small', 'Large'])\n",
        "plt.xlabel('Predicted')\n",
        "plt.ylabel('Actual')\n",
        "plt.title('Confusion Matrix')\n",
        "\n",
        "plt.tight_layout()\n",
        "plt.show()\n"
      ],
      "metadata": {
        "id": "0P4sre5IsjXA"
      },
      "execution_count": null,
      "outputs": []
    },
    {
      "cell_type": "code",
      "source": [
        "!pip install openai==0.28"
      ],
      "metadata": {
        "id": "51-ICSs6uWbe"
      },
      "execution_count": null,
      "outputs": []
    },
    {
      "cell_type": "markdown",
      "source": [
        "<font color=\"blue\">**Compare Classification Methods** </font>"
      ],
      "metadata": {
        "id": "AjOAGjct6wrS"
      }
    },
    {
      "cell_type": "code",
      "source": [
        "import openai\n",
        "import pandas as pd\n",
        "import numpy as np\n",
        "from sklearn.impute import SimpleImputer\n",
        "from sklearn.preprocessing import StandardScaler\n",
        "from sklearn.model_selection import train_test_split\n",
        "from sklearn.tree import DecisionTreeClassifier\n",
        "from sklearn.svm import SVC\n",
        "from sklearn.naive_bayes import GaussianNB\n",
        "from sklearn.neighbors import KNeighborsClassifier\n",
        "from sklearn.metrics import accuracy_score\n",
        "import matplotlib.pyplot as plt\n",
        "import seaborn as sns\n",
        "\n",
        "# Set your OpenAI API key\n",
        "openai.api_key = \"??\"\n",
        "\n",
        "# Load the dataset\n",
        "url = \"https://raw.githubusercontent.com/MehrdadJalali-KIT/PredictiveModelingDemo/main/MOF3.csv\"\n",
        "df = pd.read_csv(url)\n",
        "\n",
        "# Separate features and labels\n",
        "X = df.iloc[:, :-1]\n",
        "y = df.iloc[:, -1]\n",
        "\n",
        "# Impute missing values with mean strategy\n",
        "imputer = SimpleImputer(strategy='mean')\n",
        "X_imputed = imputer.fit_transform(X)\n",
        "\n",
        "# Normalize the features using StandardScaler\n",
        "scaler = StandardScaler()\n",
        "X_normalized = scaler.fit_transform(X_imputed)\n",
        "\n",
        "# Split the dataset into training and testing sets\n",
        "X_train, X_test, y_train, y_test = train_test_split(X_normalized, y, test_size=0.2, random_state=42)\n",
        "\n",
        "# Initialize classifiers\n",
        "classifiers = {\n",
        "    \"Decision Tree\": DecisionTreeClassifier(),\n",
        "    \"SVM\": SVC(),\n",
        "    \"Naive Bayes\": GaussianNB(),\n",
        "    \"KNN\": KNeighborsClassifier()\n",
        "}\n",
        "\n",
        "results = {}\n",
        "\n",
        "# Train and evaluate each classifier\n",
        "for classifier_name, classifier in classifiers.items():\n",
        "    # Train the classifier\n",
        "    classifier.fit(X_train, y_train)\n",
        "\n",
        "    # Predict on the test set\n",
        "    y_pred = classifier.predict(X_test)\n",
        "\n",
        "    # Calculate accuracy\n",
        "    accuracy = accuracy_score(y_test, y_pred)\n",
        "\n",
        "    results[classifier_name] = accuracy\n",
        "\n",
        "# Sort classifiers by accuracy\n",
        "sorted_results = {k: v for k, v in sorted(results.items(), key=lambda item: item[1], reverse=True)}\n",
        "\n",
        "# Generate explanations using OpenAI GPT-3\n",
        "explanation_prompt = \"Compare the performance of the following classifiers based on accuracy for predcition PLD size of the MOF materials, and also mention why the results could be like this:\\n\\n\"\n",
        "\n",
        "for classifier_name, accuracy in sorted_results.items():\n",
        "    explanation_prompt += f\"- {classifier_name}: {accuracy}\\n\"\n",
        "\n",
        "# Generate an explanation using GPT-3.5-turbo chat model\n",
        "response = openai.ChatCompletion.create(\n",
        "    model=\"gpt-4-0613\",\n",
        "    # model=\"gpt-3.5-turbo\",\n",
        "    messages=[\n",
        "        {\"role\": \"system\", \"content\": \"You are a helpful assistant.\"},\n",
        "        {\"role\": \"user\", \"content\": explanation_prompt}\n",
        "    ]\n",
        ")\n",
        "\n",
        "# Extract the generated explanation from the response\n",
        "generated_explanation = response['choices'][0]['message']['content']\n",
        "\n",
        "# Split the generated explanation into sentences\n",
        "sentences = generated_explanation.split('. ')\n",
        "\n",
        "# Print each sentence in blue on separate rows\n",
        "for sentence in sentences:\n",
        "    print(f'\\033[94m{sentence}\\033[0m')  # Use ANSI escape code for blue color\n",
        "\n",
        "# Plot accuracy for each classifier\n",
        "plt.figure(figsize=(10, 5))\n",
        "sns.barplot(x=list(sorted_results.keys()), y=list(sorted_results.values()), palette='viridis')\n",
        "plt.title('Classifier Accuracy Comparison')\n",
        "plt.ylabel('Accuracy')\n",
        "plt.xticks(rotation=45)\n",
        "plt.tight_layout()\n",
        "plt.show()\n",
        "\n"
      ],
      "metadata": {
        "id": "gct65LNr07mK",
        "outputId": "7dbb1f79-dcfe-4f5a-b447-211529ee0331",
        "colab": {
          "base_uri": "https://localhost:8080/",
          "height": 384
        }
      },
      "execution_count": null,
      "outputs": [
        {
          "output_type": "error",
          "ename": "ModuleNotFoundError",
          "evalue": "No module named 'openai'",
          "traceback": [
            "\u001b[0;31m---------------------------------------------------------------------------\u001b[0m",
            "\u001b[0;31mModuleNotFoundError\u001b[0m                       Traceback (most recent call last)",
            "\u001b[0;32m<ipython-input-1-6907b4556c76>\u001b[0m in \u001b[0;36m<cell line: 1>\u001b[0;34m()\u001b[0m\n\u001b[0;32m----> 1\u001b[0;31m \u001b[0;32mimport\u001b[0m \u001b[0mopenai\u001b[0m\u001b[0;34m\u001b[0m\u001b[0;34m\u001b[0m\u001b[0m\n\u001b[0m\u001b[1;32m      2\u001b[0m \u001b[0;32mimport\u001b[0m \u001b[0mpandas\u001b[0m \u001b[0;32mas\u001b[0m \u001b[0mpd\u001b[0m\u001b[0;34m\u001b[0m\u001b[0;34m\u001b[0m\u001b[0m\n\u001b[1;32m      3\u001b[0m \u001b[0;32mimport\u001b[0m \u001b[0mnumpy\u001b[0m \u001b[0;32mas\u001b[0m \u001b[0mnp\u001b[0m\u001b[0;34m\u001b[0m\u001b[0;34m\u001b[0m\u001b[0m\n\u001b[1;32m      4\u001b[0m \u001b[0;32mfrom\u001b[0m \u001b[0msklearn\u001b[0m\u001b[0;34m.\u001b[0m\u001b[0mimpute\u001b[0m \u001b[0;32mimport\u001b[0m \u001b[0mSimpleImputer\u001b[0m\u001b[0;34m\u001b[0m\u001b[0;34m\u001b[0m\u001b[0m\n\u001b[1;32m      5\u001b[0m \u001b[0;32mfrom\u001b[0m \u001b[0msklearn\u001b[0m\u001b[0;34m.\u001b[0m\u001b[0mpreprocessing\u001b[0m \u001b[0;32mimport\u001b[0m \u001b[0mStandardScaler\u001b[0m\u001b[0;34m\u001b[0m\u001b[0;34m\u001b[0m\u001b[0m\n",
            "\u001b[0;31mModuleNotFoundError\u001b[0m: No module named 'openai'",
            "",
            "\u001b[0;31m---------------------------------------------------------------------------\u001b[0;32m\nNOTE: If your import is failing due to a missing package, you can\nmanually install dependencies using either !pip or !apt.\n\nTo view examples of installing some common dependencies, click the\n\"Open Examples\" button below.\n\u001b[0;31m---------------------------------------------------------------------------\u001b[0m\n"
          ],
          "errorDetails": {
            "actions": [
              {
                "action": "open_url",
                "actionText": "Open Examples",
                "url": "/notebooks/snippets/importing_libraries.ipynb"
              }
            ]
          }
        }
      ]
    },
    {
      "cell_type": "markdown",
      "source": [
        "<Font color=blue size=5><b>Predicting Unseen Data</b></font>\n",
        "\n",
        "In this section, we will use the trained machine learning model to predict the PLD (Pores Limiting Diameter) of MOF materials for unseen data. The unseen data contains a set of features similar to the one used for training, and we will apply the same data preprocessing steps to ensure consistency.\n",
        "\n",
        "### Unseen Data\n",
        "\n",
        "Let's first load the unseen data from the following source:\n",
        "[Unseen Data Source](https://raw.githubusercontent.com/MehrdadJalali-KIT/PredictiveModelingDemo/main/MOF3_Unseen.csv)\n",
        "\n",
        "We will display the unseen data in a table to provide an overview of the input features.\n",
        "\n",
        "### Data Preprocessing\n",
        "\n",
        "Before making predictions, we need to perform the same data preprocessing steps as we did for the training data. These steps include handling missing values and normalizing the features.\n",
        "\n",
        "### Prediction\n",
        "\n",
        "Once the data is preprocessed, we will use our trained machine learning model to predict the PLD size of the MOF materials for the unseen data. The predictions will be displayed alongside the input features, creating a complete table of data with the predicted PLD values.\n",
        "\n",
        "Let's proceed with loading and preprocessing the unseen data and making predictions.\n"
      ],
      "metadata": {
        "id": "0pmXS359AeRh"
      }
    },
    {
      "cell_type": "code",
      "source": [
        "# Load the unseen data for prediction\n",
        "unseen_url = \"https://raw.githubusercontent.com/MehrdadJalali-KIT/PredictiveModelingDemo/main/MOF3_Unseen.csv\"\n",
        "df_unseen = pd.read_csv(unseen_url)\n",
        "df_unseen\n"
      ],
      "metadata": {
        "id": "i-30OCFW9sDZ"
      },
      "execution_count": null,
      "outputs": []
    },
    {
      "cell_type": "code",
      "source": [
        "\n",
        "# Normalize the unseen data\n",
        "X_unseen = df_unseen.values  # Assuming the unseen data has the same format as the training data\n",
        "X_unseen_normalized = scaler.transform(X_unseen)\n",
        "\n",
        "# Make predictions using the trained model\n",
        "predictions = model.predict(X_unseen_normalized)\n",
        "\n",
        "# Create a new DataFrame with original data and predictions\n",
        "df_predictions = pd.DataFrame(data=df_unseen)\n",
        "df_predictions['Predictions'] = predictions\n",
        "df_predictions"
      ],
      "metadata": {
        "id": "1EglFhFhAORp"
      },
      "execution_count": null,
      "outputs": []
    },
    {
      "cell_type": "markdown",
      "source": [
        "<font color=blue size=5><b>K-Mean Clustering</b></font>"
      ],
      "metadata": {
        "id": "ayNc6Mom7f_n"
      }
    },
    {
      "cell_type": "code",
      "source": [
        "import pandas as pd\n",
        "import numpy as np\n",
        "from sklearn.impute import SimpleImputer\n",
        "from sklearn.preprocessing import StandardScaler\n",
        "from sklearn.cluster import KMeans\n",
        "from sklearn.metrics import silhouette_score\n",
        "import matplotlib.pyplot as plt\n",
        "import seaborn as sns\n",
        "\n",
        "# Load the dataset\n",
        "url = \"https://raw.githubusercontent.com/MehrdadJalali-KIT/PredictiveModelingDemo/main/MOF3.csv\"\n",
        "df = pd.read_csv(url)\n",
        "\n",
        "# Exclude the last column (class label) from the dataset\n",
        "X = df.iloc[:, :-1]\n",
        "\n",
        "# Impute missing values with mean strategy\n",
        "imputer = SimpleImputer(strategy='mean')\n",
        "X_imputed = imputer.fit_transform(X)\n",
        "\n",
        "# Normalize the features using StandardScaler\n",
        "scaler = StandardScaler()\n",
        "X_normalized = scaler.fit_transform(X_imputed)\n",
        "\n",
        "# Perform K-Means clustering with k=2\n",
        "k = 2\n",
        "kmeans = KMeans(n_clusters=k)\n",
        "cluster_labels = kmeans.fit_predict(X_normalized)\n",
        "\n",
        "# Calculate silhouette score\n",
        "silhouette_avg = silhouette_score(X_normalized, cluster_labels)\n",
        "\n",
        "# Create subplots for data points before and after clustering\n",
        "fig, axes = plt.subplots(1, 2, figsize=(12, 5))\n",
        "\n",
        "# Plot data points before clustering\n",
        "axes[0].scatter(X_normalized[:, 0], X_normalized[:, 1], c='blue', marker='o', edgecolor='k', s=50)\n",
        "axes[0].set_title('Data Points Before Clustering')\n",
        "axes[0].set_xlabel(X.columns[0])  # Set the actual column name as x-axis label\n",
        "axes[0].set_ylabel(X.columns[1])  # Set the actual column name as y-axis label\n",
        "\n",
        "# Plot data points after clustering\n",
        "scatter = axes[1].scatter(X_normalized[:, 0], X_normalized[:, 1], c=cluster_labels, cmap='viridis', marker='o', edgecolor='k', s=50)\n",
        "axes[1].set_title('Data Points After Clustering (K=2)')\n",
        "axes[1].set_xlabel(X.columns[0])  # Set the actual column name as x-axis label\n",
        "axes[1].set_ylabel(X.columns[1])  # Set the actual column name as y-axis label\n",
        "\n",
        "# Add colorbar to the right subplot\n",
        "colorbar = plt.colorbar(scatter, ax=axes[1])\n",
        "colorbar.set_label('Cluster Labels')\n",
        "plt.suptitle(f\"Silhouette Score: {silhouette_avg:.2f}\", y=1.02)  # Add silhouette score to the title\n",
        "\n",
        "plt.tight_layout()\n",
        "plt.show()\n",
        "\n",
        "\n"
      ],
      "metadata": {
        "id": "oRH7ZkfUCVsN"
      },
      "execution_count": null,
      "outputs": []
    },
    {
      "cell_type": "code",
      "source": [
        "import pandas as pd\n",
        "import seaborn as sns\n",
        "import matplotlib.pyplot as plt\n",
        "import warnings\n",
        "\n",
        "# Load the dataset\n",
        "url = \"https://raw.githubusercontent.com/MehrdadJalali-KIT/PredictiveModelingDemo/main/MOF3.csv\"\n",
        "df = pd.read_csv(url)\n",
        "\n",
        "# Exclude the last column (class label) from the dataset\n",
        "X = df.iloc[:, :-1]\n",
        "\n",
        "# Create a pair plot for all features as data points\n",
        "# Filter out UserWarnings\n",
        "warnings.filterwarnings(\"ignore\", category=UserWarning)\n",
        "sns.pairplot(X, diag_kind='kde', markers='o', palette='viridis');\n",
        "plt.suptitle(\"Pair Plot of Features as Data Points\", y=1.02);  # Add a title\n",
        "plt.show()\n",
        "\n"
      ],
      "metadata": {
        "id": "2NEWX8F3DurV"
      },
      "execution_count": null,
      "outputs": []
    },
    {
      "cell_type": "markdown",
      "source": [
        "<font color=blue size=5><b>**Concept Drift**</b></font>\n",
        "\n",
        "In the plot, you will see two bars labeled \"Period 1\" and \"Period 2.\" These bars represent the accuracy of the model for the respective time periods. If the accuracy varies significantly between the periods, it indicates concept drift—the model's performance has changed over time, and it may require adaptation to the evolving data distribution."
      ],
      "metadata": {
        "id": "pwdyfdbkMy1s"
      }
    },
    {
      "cell_type": "code",
      "source": [
        "import pandas as pd\n",
        "import numpy as np\n",
        "from sklearn.impute import SimpleImputer\n",
        "from sklearn.preprocessing import StandardScaler\n",
        "from sklearn.model_selection import train_test_split\n",
        "from sklearn.linear_model import LogisticRegression\n",
        "from sklearn.metrics import accuracy_score\n",
        "import matplotlib.pyplot as plt\n",
        "\n",
        "# Load the initial dataset\n",
        "url = \"https://raw.githubusercontent.com/MehrdadJalali-KIT/PredictiveModelingDemo/main/MOF3.csv\"\n",
        "df = pd.read_csv(url)\n",
        "\n",
        "# Define the time period for concept drift (e.g., 50% of the data for each period)\n",
        "split_ratio = 0.5\n",
        "split_index = int(len(df) * split_ratio)\n",
        "\n",
        "# Split the data into two time periods\n",
        "df_period1 = df.iloc[:split_index, :]\n",
        "df_period2 = df.iloc[split_index:, :]\n",
        "\n",
        "# Lists to store accuracy for each time period\n",
        "accuracies = []\n",
        "\n",
        "# Function to preprocess and evaluate a dataset\n",
        "def evaluate_dataset(df):\n",
        "    # Separate features and labels\n",
        "    X = df.iloc[:, :-1]\n",
        "    y = df.iloc[:, -1]\n",
        "\n",
        "    # Impute missing values with mean strategy\n",
        "    imputer = SimpleImputer(strategy='mean')\n",
        "    X_imputed = imputer.fit_transform(X)\n",
        "\n",
        "    # Normalize the features using StandardScaler\n",
        "    scaler = StandardScaler()\n",
        "    X_normalized = scaler.fit_transform(X_imputed)\n",
        "\n",
        "    # Split the dataset into training and testing sets\n",
        "    X_train, X_test, y_train, y_test = train_test_split(X_normalized, y, test_size=0.2, random_state=42)\n",
        "\n",
        "    # Train a Logistic Regression model\n",
        "    clf = LogisticRegression()\n",
        "    clf.fit(X_train, y_train)\n",
        "\n",
        "    # Predict on the test set\n",
        "    y_pred = clf.predict(X_test)\n",
        "\n",
        "    # Calculate accuracy\n",
        "    accuracy = accuracy_score(y_test, y_pred)\n",
        "\n",
        "    return accuracy\n",
        "\n",
        "# Evaluate the model on the first time period\n",
        "accuracy1 = evaluate_dataset(df_period1)\n",
        "accuracies.append(accuracy1)\n",
        "\n",
        "# Evaluate the model on the second time period\n",
        "accuracy2 = evaluate_dataset(df_period2)\n",
        "accuracies.append(accuracy2)\n",
        "\n",
        "# Plot the accuracy over time\n",
        "periods = ['Period 1', 'Period 2']\n",
        "plt.bar(periods, accuracies, color=['blue', 'green'])\n",
        "plt.xlabel('Time Period')\n",
        "plt.ylabel('Accuracy')\n",
        "plt.title('Accuracy Over Time (Concept Drift)')\n",
        "plt.ylim(0, 1)  # Set the y-axis limits\n",
        "plt.show()\n",
        "\n"
      ],
      "metadata": {
        "id": "fSrEK7nWMCkg"
      },
      "execution_count": null,
      "outputs": []
    },
    {
      "cell_type": "code",
      "source": [
        "import pandas as pd\n",
        "import matplotlib.pyplot as plt\n",
        "import seaborn as sns\n",
        "\n",
        "# URL to the raw CSV file on GitHub\n",
        "file_url = 'https://raw.githubusercontent.com/MehrdadJalali-KIT/PredictiveModelingDemo/main/MOF3.csv'\n",
        "\n",
        "# Read the CSV file from the raw URL\n",
        "df = pd.read_csv(file_url)\n",
        "\n",
        "# Extract the class labels from the last column\n",
        "class_labels = df.iloc[:, -1]\n",
        "\n",
        "# Create a count plot or a histogram to visualize the distribution of class labels\n",
        "plt.figure(figsize=(8, 6))\n",
        "sns.countplot(x=class_labels)\n",
        "plt.title('Distribution of Class Labels')\n",
        "plt.xlabel('Class Labels')\n",
        "plt.ylabel('Count')\n",
        "plt.xticks(rotation=45)  # Rotate x-axis labels for better readability\n",
        "\n",
        "plt.show()\n"
      ],
      "metadata": {
        "id": "2V4plkqJn849"
      },
      "execution_count": null,
      "outputs": []
    }
  ]
}