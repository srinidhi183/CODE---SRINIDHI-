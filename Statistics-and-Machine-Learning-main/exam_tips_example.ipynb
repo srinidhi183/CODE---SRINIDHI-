{
  "cells": [
    {
      "cell_type": "markdown",
      "metadata": {
        "id": "view-in-github",
        "colab_type": "text"
      },
      "source": [
        "<a href=\"https://colab.research.google.com/github/MehrdadJalali-AI/Statistics-and-Machine-Learning/blob/main/exam_tips_example.ipynb\" target=\"_parent\"><img src=\"https://colab.research.google.com/assets/colab-badge.svg\" alt=\"Open In Colab\"/></a>"
      ]
    },
    {
      "cell_type": "markdown",
      "id": "ed74be05",
      "metadata": {
        "id": "ed74be05"
      },
      "source": [
        "# Handling Missing Values\n",
        "### Problem Definition:\n",
        "The dataset contains missing values in some columns. These missing values may introduce bias into the analysis, so the problem is to handle them effectively."
      ]
    },
    {
      "cell_type": "code",
      "execution_count": 1,
      "id": "a3d0eaba",
      "metadata": {
        "colab": {
          "base_uri": "https://localhost:8080/"
        },
        "id": "a3d0eaba",
        "outputId": "6ce4c132-b71a-4e9f-a67d-e96f18a47631"
      },
      "outputs": [
        {
          "output_type": "stream",
          "name": "stdout",
          "text": [
            "Before handling missing values:\n",
            "    Column1  Column2\n",
            "0      1.0      NaN\n",
            "1      2.0      2.0\n",
            "2      NaN      3.0\n",
            "3      4.0      4.0\n",
            "After handling missing values:\n",
            "     Column1  Column2\n",
            "0  1.000000      3.0\n",
            "1  2.000000      2.0\n",
            "2  2.333333      3.0\n",
            "3  4.000000      4.0\n"
          ]
        }
      ],
      "source": [
        "import pandas as pd\n",
        "import numpy as np\n",
        "\n",
        "# Example dataset\n",
        "data = {'Column1': [1, 2, np.nan, 4],\n",
        "        'Column2': [np.nan, 2, 3, 4]}\n",
        "df = pd.DataFrame(data)\n",
        "\n",
        "# Checking missing values\n",
        "print('Before handling missing values:\\n', df)\n",
        "\n",
        "# Imputing missing values with the mean\n",
        "df.fillna(df.mean(), inplace=True)\n",
        "\n",
        "print('After handling missing values:\\n', df)"
      ]
    },
    {
      "cell_type": "markdown",
      "id": "cb70db0f",
      "metadata": {
        "id": "cb70db0f"
      },
      "source": [
        "### Justification:\n",
        "We imputed the missing values with the mean of each column to preserve the dataset's size and minimize the impact of missing values on the analysis. This method works well for numeric data."
      ]
    },
    {
      "cell_type": "markdown",
      "id": "8ed52896",
      "metadata": {
        "id": "8ed52896"
      },
      "source": [
        "# Classification Example\n",
        "### Problem Definition:\n",
        "We want to classify data points into different categories based on the features provided. This task can help identify patterns in the dataset."
      ]
    },
    {
      "cell_type": "code",
      "execution_count": 2,
      "id": "df340f94",
      "metadata": {
        "colab": {
          "base_uri": "https://localhost:8080/"
        },
        "id": "df340f94",
        "outputId": "0a51a352-d400-4210-e02d-d3b29eba7b4c"
      },
      "outputs": [
        {
          "output_type": "stream",
          "name": "stdout",
          "text": [
            "Classification Accuracy: 1.00\n"
          ]
        }
      ],
      "source": [
        "from sklearn.datasets import load_iris\n",
        "from sklearn.model_selection import train_test_split\n",
        "from sklearn.ensemble import RandomForestClassifier\n",
        "from sklearn.metrics import accuracy_score\n",
        "\n",
        "# Load dataset\n",
        "iris = load_iris()\n",
        "X, y = iris.data, iris.target\n",
        "\n",
        "# Split into training and testing sets\n",
        "X_train, X_test, y_train, y_test = train_test_split(X, y, test_size=0.2, random_state=42)\n",
        "\n",
        "# Train a Random Forest Classifier\n",
        "clf = RandomForestClassifier(n_estimators=100, random_state=42)\n",
        "clf.fit(X_train, y_train)\n",
        "\n",
        "# Make predictions\n",
        "y_pred = clf.predict(X_test)\n",
        "\n",
        "# Calculate accuracy\n",
        "accuracy = accuracy_score(y_test, y_pred)\n",
        "print(f'Classification Accuracy: {accuracy:.2f}')"
      ]
    },
    {
      "cell_type": "markdown",
      "id": "6f5df535",
      "metadata": {
        "id": "6f5df535"
      },
      "source": [
        "### Justification:\n",
        "We used a Random Forest Classifier because it is robust and handles both linear and non-linear data well. The number of estimators was set to 100 for a good balance between performance and computational cost."
      ]
    },
    {
      "cell_type": "markdown",
      "id": "4df7d457",
      "metadata": {
        "id": "4df7d457"
      },
      "source": [
        "### Submission Instructions:\n",
        "Once you complete your notebook:\n",
        "- Save it as a PDF (File > Print > Save as PDF).\n",
        "- Upload the PDF to Moodle within the given time frame."
      ]
    }
  ],
  "metadata": {
    "colab": {
      "provenance": [],
      "include_colab_link": true
    },
    "language_info": {
      "name": "python"
    },
    "kernelspec": {
      "name": "python3",
      "display_name": "Python 3"
    }
  },
  "nbformat": 4,
  "nbformat_minor": 5
}