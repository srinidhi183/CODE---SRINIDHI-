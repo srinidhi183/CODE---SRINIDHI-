{
  "nbformat": 4,
  "nbformat_minor": 0,
  "metadata": {
    "colab": {
      "provenance": [],
      "authorship_tag": "ABX9TyPEgf2NQ5slgzJWzNwyB6/I",
      "include_colab_link": true
    },
    "kernelspec": {
      "name": "python3",
      "display_name": "Python 3"
    },
    "language_info": {
      "name": "python"
    }
  },
  "cells": [
    {
      "cell_type": "markdown",
      "metadata": {
        "id": "view-in-github",
        "colab_type": "text"
      },
      "source": [
        "<a href=\"https://colab.research.google.com/github/srinidhi183/CODE---SRINIDHI-/blob/StatsandML/Day_3_100001318_stud_srh_university_de.ipynb\" target=\"_parent\"><img src=\"https://colab.research.google.com/assets/colab-badge.svg\" alt=\"Open In Colab\"/></a>"
      ]
    },
    {
      "cell_type": "code",
      "execution_count": 1,
      "metadata": {
        "id": "VG3PlcANnG7f"
      },
      "outputs": [],
      "source": [
        "import pandas as pd\n",
        "import numpy as np\n",
        "from scipy.stats import ttest_ind, f_oneway\n",
        "from statsmodels.stats.multicomp import pairwise_tukeyhsd\n",
        "import matplotlib.pyplot as plt\n",
        "import seaborn as sns\n",
        "from sklearn.linear_model import LinearRegression\n",
        "from sklearn.metrics import r2_score\n"
      ]
    },
    {
      "cell_type": "markdown",
      "source": [
        "# Load the Iris dataset"
      ],
      "metadata": {
        "id": "Q7k75PBZsyRU"
      }
    },
    {
      "cell_type": "code",
      "source": [
        "from sklearn.datasets import load_iris\n",
        "iris_data = load_iris()\n",
        "iris = pd.DataFrame(data=np.c_[iris_data['data'], iris_data['target']],\n",
        "                    columns=iris_data['feature_names'] + ['species'])\n"
      ],
      "metadata": {
        "id": "4fG52GUund2o"
      },
      "execution_count": 4,
      "outputs": []
    },
    {
      "cell_type": "markdown",
      "source": [
        "# Rename columns for simplicity"
      ],
      "metadata": {
        "id": "3dVwObAfs1eK"
      }
    },
    {
      "cell_type": "code",
      "source": [
        "iris.columns = ['sepal_length', 'sepal_width', 'petal_length', 'petal_width', 'species']\n",
        "\n",
        "# Map species to categorical names\n",
        "species_map = {0: 'Setosa', 1: 'Versicolor', 2: 'Virginica'}\n",
        "iris['species'] = iris['species'].map(species_map)"
      ],
      "metadata": {
        "id": "eGxO8bE2oRWo"
      },
      "execution_count": 5,
      "outputs": []
    },
    {
      "cell_type": "markdown",
      "source": [
        "# 1. T-Test: Compare mean petal lengths of Setosa vs Versicolor"
      ],
      "metadata": {
        "id": "77rlXuiBs4ew"
      }
    },
    {
      "cell_type": "code",
      "source": [
        "setosa_petal_length = iris[iris['species'] == 'Setosa']['petal_length']\n",
        "versicolor_petal_length = iris[iris['species'] == 'Versicolor']['petal_length']\n",
        "\n",
        "t_stat, p_value = ttest_ind(setosa_petal_length, versicolor_petal_length)\n",
        "\n",
        "print(f\"T-Test Results: t-statistic = {t_stat}, p-value = {p_value}\")"
      ],
      "metadata": {
        "colab": {
          "base_uri": "https://localhost:8080/"
        },
        "id": "n9NKgNpDoY9o",
        "outputId": "29ec1719-6d23-4370-99ef-5f7ee1b83454"
      },
      "execution_count": 6,
      "outputs": [
        {
          "output_type": "stream",
          "name": "stdout",
          "text": [
            "T-Test Results: t-statistic = -39.492719391538095, p-value = 5.404910513441677e-62\n"
          ]
        }
      ]
    },
    {
      "cell_type": "markdown",
      "source": [
        "Insights\n",
        "\n",
        "In this analysis, I compared the mean petal lengths of Setosa and Versicolor using a t-test to check if there’s a significant difference.\n",
        "The t-statistic measures the difference between the means relative to their variation, while the p-value tells us if this difference is statistically significant.\n"
      ],
      "metadata": {
        "id": "zwkaFp-wtKmN"
      }
    },
    {
      "cell_type": "markdown",
      "source": [
        "# 2. Z-Test: Test if mean sepal length of Setosa equals 5.0"
      ],
      "metadata": {
        "id": "eVFQqIXWs7r2"
      }
    },
    {
      "cell_type": "code",
      "source": [
        "# Z-test is applicable for n > 30 or known population std deviation\n",
        "from statsmodels.stats.weightstats import ztest\n",
        "\n",
        "setosa_sepal_length = iris[iris['species'] == 'Setosa']['sepal_length']\n",
        "z_stat, z_p_value = ztest(setosa_sepal_length, value=5.0)\n",
        "\n",
        "print(f\"Z-Test Results: z-statistic = {z_stat}, p-value = {z_p_value}\")"
      ],
      "metadata": {
        "colab": {
          "base_uri": "https://localhost:8080/"
        },
        "id": "UyLfv13EocRQ",
        "outputId": "7f25de36-3102-43b6-e57a-0ed13bf3c3d7"
      },
      "execution_count": 7,
      "outputs": [
        {
          "output_type": "stream",
          "name": "stdout",
          "text": [
            "Z-Test Results: z-statistic = 0.12036212238318056, p-value = 0.9041962951772449\n"
          ]
        }
      ]
    },
    {
      "cell_type": "markdown",
      "source": [
        "# 3. ANOVA: Compare mean petal widths across all three species"
      ],
      "metadata": {
        "id": "tUBCMHuWs-b3"
      }
    },
    {
      "cell_type": "code",
      "source": [
        "setosa_petal_width = iris[iris['species'] == 'Setosa']['petal_width']\n",
        "versicolor_petal_width = iris[iris['species'] == 'Versicolor']['petal_width']\n",
        "virginica_petal_width = iris[iris['species'] == 'Virginica']['petal_width']\n",
        "\n",
        "f_stat, anova_p_value = f_oneway(setosa_petal_width, versicolor_petal_width, virginica_petal_width)\n",
        "\n",
        "print(f\"ANOVA Results: F-statistic = {f_stat}, p-value = {anova_p_value}\")"
      ],
      "metadata": {
        "colab": {
          "base_uri": "https://localhost:8080/"
        },
        "id": "yzTpOeh8od0p",
        "outputId": "c48ea32f-5074-41a7-ce08-cffb8ee12ceb"
      },
      "execution_count": 8,
      "outputs": [
        {
          "output_type": "stream",
          "name": "stdout",
          "text": [
            "ANOVA Results: F-statistic = 960.007146801809, p-value = 4.169445839443116e-85\n"
          ]
        }
      ]
    },
    {
      "cell_type": "code",
      "source": [],
      "metadata": {
        "id": "INiB8zxhogr4"
      },
      "execution_count": null,
      "outputs": []
    },
    {
      "cell_type": "markdown",
      "source": [
        "# 4. Correlation/Regression: Explore relationship between sepal length and petal length"
      ],
      "metadata": {
        "id": "FBQfRW7QtCTX"
      }
    },
    {
      "cell_type": "code",
      "source": [
        "sepal_length = iris['sepal_length']\n",
        "petal_length = iris['petal_length']\n",
        "\n",
        "# Correlation\n",
        "correlation, _ = pearsonr(sepal_length, petal_length)\n",
        "print(f\"Pearson Correlation: {correlation}\")\n",
        "\n",
        "# Regression\n",
        "X = sm.add_constant(sepal_length)  # Add constant for intercept\n",
        "model = sm.OLS(petal_length, X).fit()\n",
        "print(model.summary())\n",
        "\n",
        "# Scatter plot with regression line\n",
        "sns.regplot(x=sepal_length, y=petal_length)\n",
        "plt.xlabel('Sepal Length')\n",
        "plt.ylabel('Petal Length')\n",
        "plt.title('Regression: Sepal Length vs Petal Length')\n",
        "plt.show()\n",
        "\n",
        "\n",
        "\n",
        "\n",
        "\n",
        "\n",
        "\n",
        "\n",
        "\n",
        "\n",
        "\n"
      ],
      "metadata": {
        "colab": {
          "base_uri": "https://localhost:8080/",
          "height": 923
        },
        "id": "Ziesh6w8oGAT",
        "outputId": "ee396da8-383d-44fa-c832-0ac8eebf0a7e"
      },
      "execution_count": 9,
      "outputs": [
        {
          "output_type": "stream",
          "name": "stdout",
          "text": [
            "Pearson Correlation: 0.8717537758865831\n",
            "                            OLS Regression Results                            \n",
            "==============================================================================\n",
            "Dep. Variable:           petal_length   R-squared:                       0.760\n",
            "Model:                            OLS   Adj. R-squared:                  0.758\n",
            "Method:                 Least Squares   F-statistic:                     468.6\n",
            "Date:                Mon, 25 Nov 2024   Prob (F-statistic):           1.04e-47\n",
            "Time:                        18:42:56   Log-Likelihood:                -190.57\n",
            "No. Observations:                 150   AIC:                             385.1\n",
            "Df Residuals:                     148   BIC:                             391.2\n",
            "Df Model:                           1                                         \n",
            "Covariance Type:            nonrobust                                         \n",
            "================================================================================\n",
            "                   coef    std err          t      P>|t|      [0.025      0.975]\n",
            "--------------------------------------------------------------------------------\n",
            "const           -7.1014      0.507    -14.016      0.000      -8.103      -6.100\n",
            "sepal_length     1.8584      0.086     21.646      0.000       1.689       2.028\n",
            "==============================================================================\n",
            "Omnibus:                        0.253   Durbin-Watson:                   1.204\n",
            "Prob(Omnibus):                  0.881   Jarque-Bera (JB):                0.386\n",
            "Skew:                          -0.082   Prob(JB):                        0.824\n",
            "Kurtosis:                       2.812   Cond. No.                         43.4\n",
            "==============================================================================\n",
            "\n",
            "Notes:\n",
            "[1] Standard Errors assume that the covariance matrix of the errors is correctly specified.\n"
          ]
        },
        {
          "output_type": "display_data",
          "data": {
            "text/plain": [
              "<Figure size 640x480 with 1 Axes>"
            ],
            "image/png": "[encoded data removed]"
          },
          "metadata": {}
        }
      ]
    },
    {
      "cell_type": "markdown",
      "source": [
        "For this step, I explored the relationship between sepal length and petal length using two approaches:\n",
        "\n",
        "1. Correlation:\n",
        "  I calculated Pearson's correlation coefficient to measure the strength and direction of the linear relationship:\n",
        "\n",
        "  A value close to 1 indicates a strong positive correlation, meaning as sepal length increases, petal length also increases.\n",
        "  A value near 0 suggests no linear relationship.\n",
        "2. Regression:\n",
        "  I performed a linear regression to predict petal length based on sepal length. The regression model provided:\n",
        "\n",
        "The equation of the best-fit line.\n",
        "Statistical measures like R-squared, which explains how much of the variability in petal length is explained by sepal length.\n",
        "The p-values for coefficients to check if sepal length significantly contributes to predicting petal length.\n",
        "\n",
        "Finally, I plotted a scatter plot with the regression line to visualize the relationship. This helped confirm whether the relationship is linear and how well the regression captures the trend."
      ],
      "metadata": {
        "id": "DAaYNgqctzyp"
      }
    },
    {
      "cell_type": "markdown",
      "source": [],
      "metadata": {
        "id": "4Bw8p3cmoojV"
      }
    }
  ]
}